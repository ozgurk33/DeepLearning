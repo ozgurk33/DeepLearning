{
 "cells": [
  {
   "cell_type": "code",
   "execution_count": 1,
   "id": "1e98012f-f47c-4054-bc31-758ad6a33298",
   "metadata": {},
   "outputs": [],
   "source": [
    "import torch"
   ]
  },
  {
   "cell_type": "code",
   "execution_count": 2,
   "id": "e9eca66a-f70b-4ff6-96a0-347dabd4d762",
   "metadata": {},
   "outputs": [],
   "source": [
    "a = torch.tensor([2, 2, 1])"
   ]
  },
  {
   "cell_type": "code",
   "execution_count": 3,
   "id": "101a03e6-f13c-438c-a408-266cd86a3e34",
   "metadata": {},
   "outputs": [
    {
     "name": "stdout",
     "output_type": "stream",
     "text": [
      "tensor([2, 2, 1])\n"
     ]
    }
   ],
   "source": [
    "print(a)"
   ]
  },
  {
   "cell_type": "code",
   "execution_count": 4,
   "id": "83857637-c09e-4f2e-801c-92e9ac006507",
   "metadata": {},
   "outputs": [],
   "source": [
    "b = torch.tensor([[2, 1, 5], [1, 5, 9], [4, 5, 6], [7,6, 5]])"
   ]
  },
  {
   "cell_type": "code",
   "execution_count": 5,
   "id": "7450e56c-6d37-4d6d-a87f-c5189e4c1d4c",
   "metadata": {},
   "outputs": [
    {
     "name": "stdout",
     "output_type": "stream",
     "text": [
      "tensor([[2, 1, 5],\n",
      "        [1, 5, 9],\n",
      "        [4, 5, 6],\n",
      "        [7, 6, 5]])\n"
     ]
    }
   ],
   "source": [
    "print(b)"
   ]
  },
  {
   "cell_type": "code",
   "execution_count": 6,
   "id": "0f43fb62-5a5e-4a10-90b5-2806ddd21fed",
   "metadata": {},
   "outputs": [
    {
     "name": "stdout",
     "output_type": "stream",
     "text": [
      "torch.Size([3])\n"
     ]
    }
   ],
   "source": [
    "print(a.shape)"
   ]
  },
  {
   "cell_type": "code",
   "execution_count": 7,
   "id": "cf61b44a-1768-4fb7-89f7-cf9f19960539",
   "metadata": {},
   "outputs": [
    {
     "name": "stdout",
     "output_type": "stream",
     "text": [
      "torch.Size([4, 3])\n"
     ]
    }
   ],
   "source": [
    "print(b.shape)"
   ]
  },
  {
   "cell_type": "code",
   "execution_count": 8,
   "id": "58896682-e232-4c54-b89b-3f3af628d22c",
   "metadata": {},
   "outputs": [
    {
     "name": "stdout",
     "output_type": "stream",
     "text": [
      "torch.Size([3])\n"
     ]
    }
   ],
   "source": [
    "print(a.size())"
   ]
  },
  {
   "cell_type": "code",
   "execution_count": 9,
   "id": "6983312b-4c88-47ac-8683-41471856d001",
   "metadata": {},
   "outputs": [
    {
     "name": "stdout",
     "output_type": "stream",
     "text": [
      "torch.Size([4, 3])\n"
     ]
    }
   ],
   "source": [
    "print(b.size())"
   ]
  },
  {
   "cell_type": "code",
   "execution_count": 10,
   "id": "0038f601-cb95-47f1-85aa-e2604ff0bdfc",
   "metadata": {},
   "outputs": [
    {
     "name": "stdout",
     "output_type": "stream",
     "text": [
      "4\n"
     ]
    }
   ],
   "source": [
    "print(b.shape[0])"
   ]
  },
  {
   "cell_type": "code",
   "execution_count": 11,
   "id": "9961daeb-fbae-4e8d-aa80-94994c124fde",
   "metadata": {},
   "outputs": [],
   "source": [
    "c = torch.FloatTensor([[2, 1, 5], [1, 5, 9], [4, 5, 6], [7,6, 5]])"
   ]
  },
  {
   "cell_type": "code",
   "execution_count": 12,
   "id": "e21848a3-98f7-4034-a21f-51d9fde51307",
   "metadata": {},
   "outputs": [],
   "source": [
    "d = torch.tensor([2,1,1], dtype = torch.float)"
   ]
  },
  {
   "cell_type": "code",
   "execution_count": 13,
   "id": "81bd60f3-e288-4385-8ec1-0f687dc3574b",
   "metadata": {},
   "outputs": [],
   "source": [
    "e = torch.DoubleTensor([[2, 1, 5], [1, 5, 9], [4, 5, 6], [7,6, 5]])"
   ]
  },
  {
   "cell_type": "code",
   "execution_count": 14,
   "id": "05b27f76-ca04-4b12-a522-af1819e371f8",
   "metadata": {},
   "outputs": [],
   "source": [
    "f = torch.tensor([2,1,1], dtype = torch.double)"
   ]
  },
  {
   "cell_type": "code",
   "execution_count": 15,
   "id": "ed58813d-dcfd-4d24-adae-2758f451b4ff",
   "metadata": {},
   "outputs": [
    {
     "name": "stdout",
     "output_type": "stream",
     "text": [
      "tensor([[2., 1., 5.],\n",
      "        [1., 5., 9.],\n",
      "        [4., 5., 6.],\n",
      "        [7., 6., 5.]])\n"
     ]
    }
   ],
   "source": [
    "print(c)"
   ]
  },
  {
   "cell_type": "code",
   "execution_count": 16,
   "id": "d4618132-9d39-4519-8ced-5c91254131b3",
   "metadata": {},
   "outputs": [
    {
     "name": "stdout",
     "output_type": "stream",
     "text": [
      "torch.float32\n"
     ]
    }
   ],
   "source": [
    "print(c.dtype)"
   ]
  },
  {
   "cell_type": "code",
   "execution_count": 17,
   "id": "352d95c7-197f-4708-982b-1217a2ef4163",
   "metadata": {},
   "outputs": [
    {
     "name": "stdout",
     "output_type": "stream",
     "text": [
      "tensor([2., 1., 1.])\n"
     ]
    }
   ],
   "source": [
    "print(d)"
   ]
  },
  {
   "cell_type": "code",
   "execution_count": 18,
   "id": "89f78026-65b0-43e7-bea7-952b539e930f",
   "metadata": {},
   "outputs": [
    {
     "name": "stdout",
     "output_type": "stream",
     "text": [
      "torch.float32\n"
     ]
    }
   ],
   "source": [
    "print(d.dtype)"
   ]
  },
  {
   "cell_type": "code",
   "execution_count": 19,
   "id": "9f5359fb-ce24-4f92-a62c-f54506c23afb",
   "metadata": {},
   "outputs": [
    {
     "name": "stdout",
     "output_type": "stream",
     "text": [
      "tensor([[2., 1., 5.],\n",
      "        [1., 5., 9.],\n",
      "        [4., 5., 6.],\n",
      "        [7., 6., 5.]], dtype=torch.float64)\n"
     ]
    }
   ],
   "source": [
    "print(e)"
   ]
  },
  {
   "cell_type": "code",
   "execution_count": 20,
   "id": "91b1c6d5-8c59-4999-82e0-fecd20b1bcb3",
   "metadata": {},
   "outputs": [
    {
     "name": "stdout",
     "output_type": "stream",
     "text": [
      "torch.float64\n"
     ]
    }
   ],
   "source": [
    "print(e.dtype)"
   ]
  },
  {
   "cell_type": "code",
   "execution_count": 21,
   "id": "3ff78c50-9cc1-4311-8d98-3c08ccf7f34d",
   "metadata": {},
   "outputs": [
    {
     "name": "stdout",
     "output_type": "stream",
     "text": [
      "tensor([2., 1., 1.], dtype=torch.float64)\n"
     ]
    }
   ],
   "source": [
    "print(f)"
   ]
  },
  {
   "cell_type": "code",
   "execution_count": 22,
   "id": "53ad4dce-9420-404c-8338-eb889e002da9",
   "metadata": {},
   "outputs": [
    {
     "name": "stdout",
     "output_type": "stream",
     "text": [
      "torch.float64\n"
     ]
    }
   ],
   "source": [
    "print(f.dtype)"
   ]
  },
  {
   "cell_type": "code",
   "execution_count": 23,
   "id": "565dbb85-73fd-4467-9a90-c8deb97aa604",
   "metadata": {},
   "outputs": [
    {
     "name": "stdout",
     "output_type": "stream",
     "text": [
      "tensor(4.6667)\n"
     ]
    }
   ],
   "source": [
    "print(c.mean())"
   ]
  },
  {
   "cell_type": "code",
   "execution_count": 24,
   "id": "c3c46352-3f4d-46da-97b0-a1760c22831f",
   "metadata": {},
   "outputs": [
    {
     "name": "stdout",
     "output_type": "stream",
     "text": [
      "tensor(2.3868)\n"
     ]
    }
   ],
   "source": [
    "print(c.std())"
   ]
  },
  {
   "cell_type": "code",
   "execution_count": 25,
   "id": "5084f8b9-947d-41d8-a61f-1710ceac8f97",
   "metadata": {},
   "outputs": [
    {
     "name": "stdout",
     "output_type": "stream",
     "text": [
      "tensor([[2],\n",
      "        [1],\n",
      "        [5],\n",
      "        [1],\n",
      "        [5],\n",
      "        [9],\n",
      "        [4],\n",
      "        [5],\n",
      "        [6],\n",
      "        [7],\n",
      "        [6],\n",
      "        [5]])\n"
     ]
    }
   ],
   "source": [
    "print(b.view(-1,1))"
   ]
  },
  {
   "cell_type": "code",
   "execution_count": 26,
   "id": "de5d370c-d0ba-4366-b71a-832db179a0c0",
   "metadata": {},
   "outputs": [
    {
     "name": "stdout",
     "output_type": "stream",
     "text": [
      "torch.Size([12, 1])\n"
     ]
    }
   ],
   "source": [
    "print(b.view(-1,1).size())"
   ]
  },
  {
   "cell_type": "code",
   "execution_count": 27,
   "id": "eb2eaa70-2ca1-49a8-9fda-fdc558b95aa0",
   "metadata": {},
   "outputs": [
    {
     "name": "stdout",
     "output_type": "stream",
     "text": [
      "tensor([2, 1, 5, 1, 5, 9, 4, 5, 6, 7, 6, 5])\n"
     ]
    }
   ],
   "source": [
    "print(b.view(12))"
   ]
  },
  {
   "cell_type": "code",
   "execution_count": 28,
   "id": "21ace21a-8fb0-4dde-8f04-fbbe57759816",
   "metadata": {},
   "outputs": [
    {
     "name": "stdout",
     "output_type": "stream",
     "text": [
      "tensor([[2, 1, 5, 1],\n",
      "        [5, 9, 4, 5],\n",
      "        [6, 7, 6, 5]])\n"
     ]
    }
   ],
   "source": [
    "print(b.view(-1,4))"
   ]
  },
  {
   "cell_type": "code",
   "execution_count": 29,
   "id": "bedd457e-7ea5-4a24-86f5-77d3cdf6f183",
   "metadata": {},
   "outputs": [
    {
     "name": "stdout",
     "output_type": "stream",
     "text": [
      "tensor([[2, 1, 5, 1],\n",
      "        [5, 9, 4, 5],\n",
      "        [6, 7, 6, 5]])\n"
     ]
    }
   ],
   "source": [
    "print(b.view(3,4))"
   ]
  },
  {
   "cell_type": "code",
   "execution_count": 30,
   "id": "67be6c3e-6c55-4a57-8d97-bba474e2562b",
   "metadata": {},
   "outputs": [],
   "source": [
    "b = b.view(-1,1)"
   ]
  },
  {
   "cell_type": "code",
   "execution_count": 31,
   "id": "c403433b-6b1e-4b24-a05b-fa57cb7682c9",
   "metadata": {},
   "outputs": [
    {
     "name": "stdout",
     "output_type": "stream",
     "text": [
      "tensor([[2],\n",
      "        [1],\n",
      "        [5],\n",
      "        [1],\n",
      "        [5],\n",
      "        [9],\n",
      "        [4],\n",
      "        [5],\n",
      "        [6],\n",
      "        [7],\n",
      "        [6],\n",
      "        [5]])\n"
     ]
    }
   ],
   "source": [
    "print(b)"
   ]
  },
  {
   "cell_type": "code",
   "execution_count": 32,
   "id": "4a6045ba-6c1b-4f12-aa6b-2c1dc98804ed",
   "metadata": {},
   "outputs": [],
   "source": [
    "three_dim = torch.randn(2, 3, 4)"
   ]
  },
  {
   "cell_type": "code",
   "execution_count": 33,
   "id": "907c67cd-7284-437b-affa-354bd8f9d20e",
   "metadata": {},
   "outputs": [
    {
     "name": "stdout",
     "output_type": "stream",
     "text": [
      "tensor([[[-6.2351e-01,  1.9718e-01,  1.2757e+00, -5.6633e-01],\n",
      "         [ 5.9233e-01,  2.2193e-01, -8.7331e-01, -7.2436e-01],\n",
      "         [ 6.9825e-01,  1.0352e+00,  1.4903e-02,  3.3304e-01]],\n",
      "\n",
      "        [[-8.6074e-01, -5.7122e-01,  1.2735e+00,  5.9666e-01],\n",
      "         [ 1.2760e+00, -2.0947e-03, -1.3620e+00, -6.4875e-01],\n",
      "         [-1.7698e+00, -1.0769e+00,  6.6472e-01, -2.9324e+00]]])\n"
     ]
    }
   ],
   "source": [
    "print(three_dim)"
   ]
  },
  {
   "cell_type": "code",
   "execution_count": 34,
   "id": "23db9499-b546-4617-8f53-591081b42806",
   "metadata": {},
   "outputs": [
    {
     "name": "stdout",
     "output_type": "stream",
     "text": [
      "tensor([[-6.2351e-01,  1.9718e-01,  1.2757e+00, -5.6633e-01,  5.9233e-01,\n",
      "          2.2193e-01, -8.7331e-01, -7.2436e-01,  6.9825e-01,  1.0352e+00,\n",
      "          1.4903e-02,  3.3304e-01],\n",
      "        [-8.6074e-01, -5.7122e-01,  1.2735e+00,  5.9666e-01,  1.2760e+00,\n",
      "         -2.0947e-03, -1.3620e+00, -6.4875e-01, -1.7698e+00, -1.0769e+00,\n",
      "          6.6472e-01, -2.9324e+00]])\n"
     ]
    }
   ],
   "source": [
    "print(three_dim.view(2, 12))"
   ]
  },
  {
   "cell_type": "code",
   "execution_count": 35,
   "id": "36359aec-f734-4f82-b372-ff123e1e080b",
   "metadata": {},
   "outputs": [
    {
     "name": "stdout",
     "output_type": "stream",
     "text": [
      "tensor([[-6.2351e-01,  1.9718e-01,  1.2757e+00, -5.6633e-01,  5.9233e-01,\n",
      "          2.2193e-01, -8.7331e-01, -7.2436e-01,  6.9825e-01,  1.0352e+00,\n",
      "          1.4903e-02,  3.3304e-01],\n",
      "        [-8.6074e-01, -5.7122e-01,  1.2735e+00,  5.9666e-01,  1.2760e+00,\n",
      "         -2.0947e-03, -1.3620e+00, -6.4875e-01, -1.7698e+00, -1.0769e+00,\n",
      "          6.6472e-01, -2.9324e+00]])\n"
     ]
    }
   ],
   "source": [
    "print(three_dim.view(2, -1))"
   ]
  },
  {
   "cell_type": "code",
   "execution_count": 36,
   "id": "d2ffec33-0f41-404e-9515-fbba34bc955d",
   "metadata": {},
   "outputs": [],
   "source": [
    "r = torch.rand(4,4)"
   ]
  },
  {
   "cell_type": "code",
   "execution_count": 37,
   "id": "670d4dab-7415-4441-8319-f32bc07621bc",
   "metadata": {},
   "outputs": [
    {
     "name": "stdout",
     "output_type": "stream",
     "text": [
      "tensor([[0.4565, 0.9340, 0.3702, 0.6931],\n",
      "        [0.5158, 0.6597, 0.9560, 0.8432],\n",
      "        [0.8706, 0.6440, 0.9172, 0.7076],\n",
      "        [0.6366, 0.6055, 0.0571, 0.7804]])\n"
     ]
    }
   ],
   "source": [
    "print(r)"
   ]
  },
  {
   "cell_type": "code",
   "execution_count": 38,
   "id": "1b4594ef-a19b-4319-80a7-b719f2ce4e4a",
   "metadata": {},
   "outputs": [],
   "source": [
    "r2 = torch.randn(4,4)"
   ]
  },
  {
   "cell_type": "code",
   "execution_count": 39,
   "id": "d164d1c5-bb17-40e9-afce-8f661e0b077f",
   "metadata": {},
   "outputs": [
    {
     "name": "stdout",
     "output_type": "stream",
     "text": [
      "tensor([[-0.7371, -0.9210,  0.8604,  0.8147],\n",
      "        [-0.2918, -0.9010, -1.0257, -1.6699],\n",
      "        [ 2.3129,  0.7434,  0.6444,  0.2513],\n",
      "        [ 0.1084, -0.4282,  0.5969, -0.4304]])\n"
     ]
    }
   ],
   "source": [
    "print(r2)"
   ]
  },
  {
   "cell_type": "code",
   "execution_count": 40,
   "id": "206bc1ee-db7e-4288-95a7-aacf80e91668",
   "metadata": {},
   "outputs": [
    {
     "name": "stdout",
     "output_type": "stream",
     "text": [
      "torch.float32\n"
     ]
    }
   ],
   "source": [
    "print(r2.dtype)"
   ]
  },
  {
   "cell_type": "code",
   "execution_count": 41,
   "id": "69f4395d-0389-42c0-80e7-1cccf049eec5",
   "metadata": {},
   "outputs": [],
   "source": [
    "in_array = torch.randint(6, 10, (5,))"
   ]
  },
  {
   "cell_type": "code",
   "execution_count": 42,
   "id": "aeb2ac3b-f570-4546-9ced-fa209101493c",
   "metadata": {},
   "outputs": [
    {
     "name": "stdout",
     "output_type": "stream",
     "text": [
      "tensor([8, 7, 6, 9, 6])\n"
     ]
    }
   ],
   "source": [
    "print(in_array)"
   ]
  },
  {
   "cell_type": "code",
   "execution_count": 43,
   "id": "a13a3f23-a857-4717-bbda-89b58b81da35",
   "metadata": {},
   "outputs": [
    {
     "name": "stdout",
     "output_type": "stream",
     "text": [
      "torch.int64\n"
     ]
    }
   ],
   "source": [
    "print(in_array.dtype)"
   ]
  },
  {
   "cell_type": "code",
   "execution_count": 44,
   "id": "8ae13968-fd4e-4967-adc0-2e1b446653fe",
   "metadata": {},
   "outputs": [],
   "source": [
    "in_array2 = torch.randint(6,10,(3,3))"
   ]
  },
  {
   "cell_type": "code",
   "execution_count": 45,
   "id": "c4ea040a-ace5-478f-9dab-7503a4a360cb",
   "metadata": {},
   "outputs": [
    {
     "name": "stdout",
     "output_type": "stream",
     "text": [
      "tensor([[9, 7, 8],\n",
      "        [7, 7, 6],\n",
      "        [9, 9, 7]])\n"
     ]
    }
   ],
   "source": [
    "print(in_array2)"
   ]
  },
  {
   "cell_type": "code",
   "execution_count": 46,
   "id": "4bc92f39-12e1-4cc7-b965-e867874a52ff",
   "metadata": {},
   "outputs": [
    {
     "name": "stdout",
     "output_type": "stream",
     "text": [
      "torch.int64\n"
     ]
    }
   ],
   "source": [
    "print(in_array2.dtype)"
   ]
  },
  {
   "cell_type": "code",
   "execution_count": 47,
   "id": "89deccba-9e4b-4d1c-af76-f094b68a771d",
   "metadata": {},
   "outputs": [
    {
     "name": "stdout",
     "output_type": "stream",
     "text": [
      "5\n"
     ]
    }
   ],
   "source": [
    "print(torch.numel(in_array))"
   ]
  },
  {
   "cell_type": "code",
   "execution_count": 48,
   "id": "31533fec-0059-4386-9a78-c0686389b9ab",
   "metadata": {},
   "outputs": [
    {
     "name": "stdout",
     "output_type": "stream",
     "text": [
      "9\n"
     ]
    }
   ],
   "source": [
    "print(torch.numel(in_array2))"
   ]
  },
  {
   "cell_type": "code",
   "execution_count": 49,
   "id": "e9d3f935-cb57-4a15-bb8f-a9126b5e3758",
   "metadata": {},
   "outputs": [],
   "source": [
    "z = torch.zeros(3, 3, dtype = torch.long)"
   ]
  },
  {
   "cell_type": "code",
   "execution_count": 50,
   "id": "f714d71a-86e8-4b31-b80d-2b58b423d4ac",
   "metadata": {},
   "outputs": [
    {
     "name": "stdout",
     "output_type": "stream",
     "text": [
      "tensor([[0, 0, 0],\n",
      "        [0, 0, 0],\n",
      "        [0, 0, 0]])\n"
     ]
    }
   ],
   "source": [
    "print(z)"
   ]
  },
  {
   "cell_type": "code",
   "execution_count": 51,
   "id": "c9d37b4a-06d8-4b58-8796-cb8bb6840277",
   "metadata": {},
   "outputs": [],
   "source": [
    "o = torch.ones(3, 3)"
   ]
  },
  {
   "cell_type": "code",
   "execution_count": 52,
   "id": "cf621da3-d5c2-40a9-b13a-42fd5fc89d3a",
   "metadata": {},
   "outputs": [
    {
     "name": "stdout",
     "output_type": "stream",
     "text": [
      "tensor([[1., 1., 1.],\n",
      "        [1., 1., 1.],\n",
      "        [1., 1., 1.]])\n"
     ]
    }
   ],
   "source": [
    "print(o)"
   ]
  },
  {
   "cell_type": "code",
   "execution_count": 53,
   "id": "3be5fbca-1a0d-4f2c-82cf-da7f272f1ecd",
   "metadata": {},
   "outputs": [
    {
     "name": "stdout",
     "output_type": "stream",
     "text": [
      "torch.float32\n"
     ]
    }
   ],
   "source": [
    "print(o.dtype)"
   ]
  },
  {
   "cell_type": "code",
   "execution_count": 54,
   "id": "da6dcc22-32b1-414a-9cfa-f874c271e6e5",
   "metadata": {},
   "outputs": [
    {
     "name": "stdout",
     "output_type": "stream",
     "text": [
      "tensor([[-0.7371, -0.9210,  0.8604,  0.8147],\n",
      "        [-0.2918, -0.9010, -1.0257, -1.6699],\n",
      "        [ 2.3129,  0.7434,  0.6444,  0.2513],\n",
      "        [ 0.1084, -0.4282,  0.5969, -0.4304]])\n"
     ]
    }
   ],
   "source": [
    "print(r2)"
   ]
  },
  {
   "cell_type": "code",
   "execution_count": 55,
   "id": "f284961b-499e-493b-be75-a8812250c814",
   "metadata": {},
   "outputs": [],
   "source": [
    "r2_like = torch.randn_like(r2, dtype = torch.double)"
   ]
  },
  {
   "cell_type": "code",
   "execution_count": 56,
   "id": "7faf3dc4-f8de-4da5-8168-69be237e71f1",
   "metadata": {},
   "outputs": [
    {
     "name": "stdout",
     "output_type": "stream",
     "text": [
      "torch.float32\n"
     ]
    }
   ],
   "source": [
    "print(r2.dtype)"
   ]
  },
  {
   "cell_type": "code",
   "execution_count": 57,
   "id": "aba37e0f-54d0-475a-a604-30ff2ce7ce88",
   "metadata": {},
   "outputs": [
    {
     "name": "stdout",
     "output_type": "stream",
     "text": [
      "tensor([[-0.9890,  0.1533,  0.6922,  0.4504],\n",
      "        [-1.2071,  0.2461, -1.1273, -0.4390],\n",
      "        [ 0.8620,  1.4901, -0.4076, -1.1189],\n",
      "        [ 0.3528,  0.3958,  1.9652, -1.3767]], dtype=torch.float64)\n"
     ]
    }
   ],
   "source": [
    "print(r2_like)"
   ]
  },
  {
   "cell_type": "code",
   "execution_count": 58,
   "id": "4074119b-8e83-41cf-9de0-5ecda9ddbbae",
   "metadata": {},
   "outputs": [],
   "source": [
    "add_result = torch.add(r,r2)"
   ]
  },
  {
   "cell_type": "code",
   "execution_count": 59,
   "id": "5f247e42-cd5f-46f5-9ec2-3bcbbb6d195e",
   "metadata": {},
   "outputs": [
    {
     "name": "stdout",
     "output_type": "stream",
     "text": [
      "tensor([[-0.2806,  0.0130,  1.2306,  1.5079],\n",
      "        [ 0.2240, -0.2413, -0.0697, -0.8267],\n",
      "        [ 3.1835,  1.3875,  1.5616,  0.9589],\n",
      "        [ 0.7450,  0.1773,  0.6540,  0.3500]])\n"
     ]
    }
   ],
   "source": [
    "print(add_result)"
   ]
  },
  {
   "cell_type": "code",
   "execution_count": 60,
   "id": "6a05a5be-09b9-4737-a928-e7d5410b7831",
   "metadata": {},
   "outputs": [
    {
     "data": {
      "text/plain": [
       "tensor([[-0.2806,  0.0130,  1.2306,  1.5079],\n",
       "        [ 0.2240, -0.2413, -0.0697, -0.8267],\n",
       "        [ 3.1835,  1.3875,  1.5616,  0.9589],\n",
       "        [ 0.7450,  0.1773,  0.6540,  0.3500]])"
      ]
     },
     "execution_count": 60,
     "metadata": {},
     "output_type": "execute_result"
    }
   ],
   "source": [
    "r2.add_(r)"
   ]
  },
  {
   "cell_type": "code",
   "execution_count": 61,
   "id": "12476575-7f67-4dcd-8511-47d218c62445",
   "metadata": {},
   "outputs": [
    {
     "name": "stdout",
     "output_type": "stream",
     "text": [
      "tensor([[-0.2806,  0.0130,  1.2306,  1.5079],\n",
      "        [ 0.2240, -0.2413, -0.0697, -0.8267],\n",
      "        [ 3.1835,  1.3875,  1.5616,  0.9589],\n",
      "        [ 0.7450,  0.1773,  0.6540,  0.3500]])\n"
     ]
    }
   ],
   "source": [
    "print(r2)"
   ]
  },
  {
   "cell_type": "code",
   "execution_count": 62,
   "id": "057653bb-a164-41ec-aaed-808355d6029a",
   "metadata": {},
   "outputs": [
    {
     "name": "stdout",
     "output_type": "stream",
     "text": [
      "tensor([ 0.0130, -0.2413,  1.3875,  0.1773])\n"
     ]
    }
   ],
   "source": [
    "print(r2[:,1])"
   ]
  },
  {
   "cell_type": "code",
   "execution_count": 63,
   "id": "3ce4e02c-cbbe-4075-8a79-cc55e494da7b",
   "metadata": {},
   "outputs": [
    {
     "name": "stdout",
     "output_type": "stream",
     "text": [
      "tensor([[-0.2806,  0.0130],\n",
      "        [ 0.2240, -0.2413],\n",
      "        [ 3.1835,  1.3875],\n",
      "        [ 0.7450,  0.1773]])\n"
     ]
    }
   ],
   "source": [
    "print(r2[:,:2])"
   ]
  },
  {
   "cell_type": "code",
   "execution_count": 64,
   "id": "64b0d246-a676-423e-b9c9-3409052d5aac",
   "metadata": {},
   "outputs": [
    {
     "name": "stdout",
     "output_type": "stream",
     "text": [
      "tensor([[-0.2806,  0.0130,  1.2306,  1.5079],\n",
      "        [ 0.2240, -0.2413, -0.0697, -0.8267],\n",
      "        [ 3.1835,  1.3875,  1.5616,  0.9589]])\n"
     ]
    }
   ],
   "source": [
    "print(r2[:3,:]) "
   ]
  },
  {
   "cell_type": "code",
   "execution_count": 65,
   "id": "8fa79bbb-731d-4cd8-b48f-7cc5a07d77ed",
   "metadata": {},
   "outputs": [],
   "source": [
    "num_ten = r2[2][3]"
   ]
  },
  {
   "cell_type": "code",
   "execution_count": 66,
   "id": "005c03e8-33af-4d24-a208-4b498976bc9e",
   "metadata": {},
   "outputs": [
    {
     "name": "stdout",
     "output_type": "stream",
     "text": [
      "tensor(0.9589)\n"
     ]
    }
   ],
   "source": [
    "print(num_ten)"
   ]
  },
  {
   "cell_type": "code",
   "execution_count": 67,
   "id": "33be4789-4a07-4368-9aaf-e9948c78aca2",
   "metadata": {},
   "outputs": [],
   "source": [
    "num_ten2 = r2[2,3]"
   ]
  },
  {
   "cell_type": "code",
   "execution_count": 68,
   "id": "fb34d7ff-3ee4-4f99-92f0-64e8de038ec4",
   "metadata": {},
   "outputs": [
    {
     "name": "stdout",
     "output_type": "stream",
     "text": [
      "tensor(0.9589)\n"
     ]
    }
   ],
   "source": [
    "print(num_ten2)"
   ]
  },
  {
   "cell_type": "code",
   "execution_count": 69,
   "id": "95c86972-7e70-4600-bb9e-630eaec578b9",
   "metadata": {},
   "outputs": [
    {
     "name": "stdout",
     "output_type": "stream",
     "text": [
      "0.9589397311210632\n"
     ]
    }
   ],
   "source": [
    "print(num_ten.item())"
   ]
  },
  {
   "cell_type": "code",
   "execution_count": 70,
   "id": "d9530862-393f-4b28-af6f-0e34c478e395",
   "metadata": {},
   "outputs": [
    {
     "name": "stdout",
     "output_type": "stream",
     "text": [
      "tensor([3.1835, 1.3875, 1.5616, 0.9589])\n"
     ]
    }
   ],
   "source": [
    "print(r2[2,:])"
   ]
  },
  {
   "cell_type": "code",
   "execution_count": 71,
   "id": "b752824f-bd7b-4987-b0af-c57e7a71f9ea",
   "metadata": {},
   "outputs": [],
   "source": [
    "import numpy as np"
   ]
  },
  {
   "cell_type": "code",
   "execution_count": 72,
   "id": "dcba933a-d5f3-49d5-99f2-d298cf307387",
   "metadata": {},
   "outputs": [],
   "source": [
    "a = torch.ones(5)"
   ]
  },
  {
   "cell_type": "code",
   "execution_count": 73,
   "id": "7d82e7f0-0206-440f-9fe5-5fc8de19c37b",
   "metadata": {},
   "outputs": [
    {
     "name": "stdout",
     "output_type": "stream",
     "text": [
      "tensor([1., 1., 1., 1., 1.])\n"
     ]
    }
   ],
   "source": [
    "print(a)"
   ]
  },
  {
   "cell_type": "code",
   "execution_count": 74,
   "id": "157261bb-f3e0-495b-8d26-661f947cc1d3",
   "metadata": {},
   "outputs": [],
   "source": [
    "b = a.numpy()"
   ]
  },
  {
   "cell_type": "code",
   "execution_count": 75,
   "id": "4aa8ad70-aab7-4eb6-9d91-ef3fac3387fb",
   "metadata": {},
   "outputs": [
    {
     "name": "stdout",
     "output_type": "stream",
     "text": [
      "[1. 1. 1. 1. 1.]\n"
     ]
    }
   ],
   "source": [
    "print(b)"
   ]
  },
  {
   "cell_type": "code",
   "execution_count": 76,
   "id": "7e5bf7d7-94e0-4cbe-af94-007996995ab0",
   "metadata": {},
   "outputs": [
    {
     "data": {
      "text/plain": [
       "tensor([2., 2., 2., 2., 2.])"
      ]
     },
     "execution_count": 76,
     "metadata": {},
     "output_type": "execute_result"
    }
   ],
   "source": [
    "a.add_(1)"
   ]
  },
  {
   "cell_type": "code",
   "execution_count": 77,
   "id": "5f2f0867-99f3-4b3b-97a7-f3db75626648",
   "metadata": {},
   "outputs": [
    {
     "name": "stdout",
     "output_type": "stream",
     "text": [
      "tensor([2., 2., 2., 2., 2.])\n"
     ]
    }
   ],
   "source": [
    "print(a)"
   ]
  },
  {
   "cell_type": "code",
   "execution_count": 78,
   "id": "695d1aa2-e4b3-47e2-b241-0da678212a17",
   "metadata": {},
   "outputs": [
    {
     "name": "stdout",
     "output_type": "stream",
     "text": [
      "[2. 2. 2. 2. 2.]\n"
     ]
    }
   ],
   "source": [
    "print(b)"
   ]
  },
  {
   "cell_type": "code",
   "execution_count": 79,
   "id": "da6261ed-01dd-47bb-8fa6-801a1cd36101",
   "metadata": {},
   "outputs": [],
   "source": [
    "a = np.ones(5)"
   ]
  },
  {
   "cell_type": "code",
   "execution_count": 80,
   "id": "c31d0d5c-e99b-402a-800b-9c197fffba29",
   "metadata": {},
   "outputs": [
    {
     "name": "stdout",
     "output_type": "stream",
     "text": [
      "[1. 1. 1. 1. 1.]\n"
     ]
    }
   ],
   "source": [
    "print(a)"
   ]
  },
  {
   "cell_type": "code",
   "execution_count": 81,
   "id": "694107a1-238d-46a9-a6f6-ccce771d2198",
   "metadata": {},
   "outputs": [],
   "source": [
    "b = torch.from_numpy(a)"
   ]
  },
  {
   "cell_type": "code",
   "execution_count": 82,
   "id": "82f6a75c-c27f-47e1-9d63-47e5f310fcea",
   "metadata": {},
   "outputs": [
    {
     "data": {
      "text/plain": [
       "array([2., 2., 2., 2., 2.])"
      ]
     },
     "execution_count": 82,
     "metadata": {},
     "output_type": "execute_result"
    }
   ],
   "source": [
    "np.add(a, 1, out=a)"
   ]
  },
  {
   "cell_type": "code",
   "execution_count": 83,
   "id": "44ad413c-f436-49e6-bac1-79f2058860a0",
   "metadata": {},
   "outputs": [
    {
     "name": "stdout",
     "output_type": "stream",
     "text": [
      "[2. 2. 2. 2. 2.]\n"
     ]
    }
   ],
   "source": [
    "print(a)"
   ]
  },
  {
   "cell_type": "code",
   "execution_count": 84,
   "id": "11d35185-0674-4498-995b-eae14c9dea7b",
   "metadata": {},
   "outputs": [
    {
     "name": "stdout",
     "output_type": "stream",
     "text": [
      "tensor([2., 2., 2., 2., 2.], dtype=torch.float64)\n"
     ]
    }
   ],
   "source": [
    "print(b)"
   ]
  },
  {
   "cell_type": "code",
   "execution_count": 85,
   "id": "6f0ca587-6e05-4de6-a2ce-c31df2d5f811",
   "metadata": {},
   "outputs": [],
   "source": [
    "r2 = r2.cuda()"
   ]
  },
  {
   "cell_type": "code",
   "execution_count": 86,
   "id": "d0198f86-7332-419b-91bb-89b7bd9fa51f",
   "metadata": {},
   "outputs": [
    {
     "name": "stdout",
     "output_type": "stream",
     "text": [
      "tensor([[-0.2806,  0.0130,  1.2306,  1.5079],\n",
      "        [ 0.2240, -0.2413, -0.0697, -0.8267],\n",
      "        [ 3.1835,  1.3875,  1.5616,  0.9589],\n",
      "        [ 0.7450,  0.1773,  0.6540,  0.3500]], device='cuda:0')\n"
     ]
    }
   ],
   "source": [
    "print(r2)"
   ]
  },
  {
   "cell_type": "code",
   "execution_count": 87,
   "id": "ac5d570c-1be4-41ca-b31d-4748f8683d33",
   "metadata": {},
   "outputs": [],
   "source": [
    "CUDA = torch.cuda.is_available()"
   ]
  },
  {
   "cell_type": "code",
   "execution_count": 88,
   "id": "ef2857bf-e253-4fdd-a2c9-5914d967b819",
   "metadata": {},
   "outputs": [
    {
     "name": "stdout",
     "output_type": "stream",
     "text": [
      "True\n"
     ]
    }
   ],
   "source": [
    "print(CUDA)"
   ]
  },
  {
   "cell_type": "code",
   "execution_count": 90,
   "id": "bdab2e6a-2dca-4161-a631-f1aa88eef364",
   "metadata": {},
   "outputs": [
    {
     "name": "stdout",
     "output_type": "stream",
     "text": [
      "tensor([[-0.2806,  0.0130,  1.2306,  1.5079],\n",
      "        [ 0.2240, -0.2413, -0.0697, -0.8267],\n",
      "        [ 3.1835,  1.3875,  1.5616,  0.9589],\n",
      "        [ 0.7450,  0.1773,  0.6540,  0.3500]], device='cuda:0')\n"
     ]
    }
   ],
   "source": [
    "if CUDA:\n",
    "    add_result = add_result.cuda()\n",
    "    print(add_result)"
   ]
  },
  {
   "cell_type": "code",
   "execution_count": 91,
   "id": "85b50abe-afe5-4a6a-8d60-d7fe7a03eff9",
   "metadata": {},
   "outputs": [],
   "source": [
    "a = [1, 2, 3, 4]"
   ]
  },
  {
   "cell_type": "code",
   "execution_count": 92,
   "id": "8b152b9a-8de7-4efd-bd64-7c295489eaa8",
   "metadata": {},
   "outputs": [
    {
     "name": "stdout",
     "output_type": "stream",
     "text": [
      "[1, 2, 3, 4]\n"
     ]
    }
   ],
   "source": [
    "print(a)"
   ]
  },
  {
   "cell_type": "code",
   "execution_count": 93,
   "id": "726ca81c-608c-4b5e-b27c-1507a3b8f29c",
   "metadata": {},
   "outputs": [],
   "source": [
    "to_list = torch.tensor(a)"
   ]
  },
  {
   "cell_type": "code",
   "execution_count": 94,
   "id": "b0b28aae-654b-46b2-8425-2df1456f86b9",
   "metadata": {},
   "outputs": [
    {
     "name": "stdout",
     "output_type": "stream",
     "text": [
      "tensor([1, 2, 3, 4]) torch.int64\n"
     ]
    }
   ],
   "source": [
    "print(to_list, to_list.dtype)"
   ]
  },
  {
   "cell_type": "code",
   "execution_count": 95,
   "id": "12f91717-38f9-48bb-930d-471a92dfb5d0",
   "metadata": {},
   "outputs": [],
   "source": [
    "data = [[1,2],[4,5],[3,6],[7,8]]"
   ]
  },
  {
   "cell_type": "code",
   "execution_count": 96,
   "id": "c0bb7e38-2b61-497a-b2f7-09870e7f744b",
   "metadata": {},
   "outputs": [],
   "source": [
    "T = torch.tensor(data)"
   ]
  },
  {
   "cell_type": "code",
   "execution_count": 97,
   "id": "c0ea6345-6e20-40c1-ab1e-14b8a38ad72d",
   "metadata": {},
   "outputs": [
    {
     "name": "stdout",
     "output_type": "stream",
     "text": [
      "tensor([[1, 2],\n",
      "        [4, 5],\n",
      "        [3, 6],\n",
      "        [7, 8]]) torch.int64\n"
     ]
    }
   ],
   "source": [
    "print(T, T.dtype)"
   ]
  },
  {
   "cell_type": "code",
   "execution_count": 98,
   "id": "24debb56-1fbb-4395-bc6e-770bbe192b6b",
   "metadata": {},
   "outputs": [],
   "source": [
    "first_1 = torch.randn(2, 5)"
   ]
  },
  {
   "cell_type": "code",
   "execution_count": 99,
   "id": "37661d47-9d8b-43ff-9f7c-d671899acb25",
   "metadata": {},
   "outputs": [
    {
     "name": "stdout",
     "output_type": "stream",
     "text": [
      "tensor([[ 0.1394, -0.1457,  2.0205,  0.7712, -0.6850],\n",
      "        [-1.5367, -0.2369, -0.4058,  0.9805,  0.0815]])\n"
     ]
    }
   ],
   "source": [
    "print(first_1)"
   ]
  },
  {
   "cell_type": "code",
   "execution_count": 100,
   "id": "2cb844a3-f8c6-44ec-bd9f-1dffc5d26a7b",
   "metadata": {},
   "outputs": [],
   "source": [
    "second_1 = torch.randn(3,5)"
   ]
  },
  {
   "cell_type": "code",
   "execution_count": 101,
   "id": "a85b81da-7910-4c03-8124-7392d4e2cf54",
   "metadata": {},
   "outputs": [
    {
     "name": "stdout",
     "output_type": "stream",
     "text": [
      "tensor([[ 1.0645,  0.6805,  0.6333,  1.1583, -0.9087],\n",
      "        [-0.2276,  0.7324, -2.2462,  0.5207,  0.6462],\n",
      "        [ 1.5080,  0.7108, -0.2467,  0.6569, -0.6932]])\n"
     ]
    }
   ],
   "source": [
    "print(second_1)"
   ]
  },
  {
   "cell_type": "code",
   "execution_count": 103,
   "id": "3ce50670-e944-4e31-9b0b-8607e12665a1",
   "metadata": {},
   "outputs": [],
   "source": [
    "con_1 = torch.cat([first_1, second_1])"
   ]
  },
  {
   "cell_type": "code",
   "execution_count": 104,
   "id": "a1087fa6-1786-45f0-b276-5b5ba84d0631",
   "metadata": {},
   "outputs": [
    {
     "name": "stdout",
     "output_type": "stream",
     "text": [
      "tensor([[ 0.1394, -0.1457,  2.0205,  0.7712, -0.6850],\n",
      "        [-1.5367, -0.2369, -0.4058,  0.9805,  0.0815],\n",
      "        [ 1.0645,  0.6805,  0.6333,  1.1583, -0.9087],\n",
      "        [-0.2276,  0.7324, -2.2462,  0.5207,  0.6462],\n",
      "        [ 1.5080,  0.7108, -0.2467,  0.6569, -0.6932]])\n"
     ]
    }
   ],
   "source": [
    "print(con_1)"
   ]
  },
  {
   "cell_type": "code",
   "execution_count": 105,
   "id": "6c4ef3cf-ebfd-4ec7-afc7-3026b8f7c06d",
   "metadata": {},
   "outputs": [],
   "source": [
    "first_2 = torch.randn(2, 3)"
   ]
  },
  {
   "cell_type": "code",
   "execution_count": 106,
   "id": "14a7427a-f5ef-444b-9eeb-e66cbdf99cb2",
   "metadata": {},
   "outputs": [
    {
     "name": "stdout",
     "output_type": "stream",
     "text": [
      "tensor([[-0.9353, -1.2223,  1.5384],\n",
      "        [ 0.9595,  0.0252,  0.3197]])\n"
     ]
    }
   ],
   "source": [
    "print(first_2)"
   ]
  },
  {
   "cell_type": "code",
   "execution_count": 107,
   "id": "c0f8d04a-317a-4e26-9a45-e7d68504b33b",
   "metadata": {},
   "outputs": [],
   "source": [
    "second_2 = torch.randn(2, 5)"
   ]
  },
  {
   "cell_type": "code",
   "execution_count": 108,
   "id": "90bf2b72-cf98-496b-889c-60fb18e2928a",
   "metadata": {},
   "outputs": [
    {
     "name": "stdout",
     "output_type": "stream",
     "text": [
      "tensor([[ 0.1396,  1.2037,  0.6273, -1.3225, -0.1684],\n",
      "        [ 0.0388,  1.1818, -1.2464,  0.0517,  0.6584]])\n"
     ]
    }
   ],
   "source": [
    "print(second_2)"
   ]
  },
  {
   "cell_type": "code",
   "execution_count": 109,
   "id": "d064c105-9187-4ede-b67b-0b45bb5c3588",
   "metadata": {},
   "outputs": [],
   "source": [
    "con_2 = torch.cat([first_2, second_2], 1)"
   ]
  },
  {
   "cell_type": "code",
   "execution_count": 110,
   "id": "144e24e9-b969-4313-8fdc-d2b9930d8d4d",
   "metadata": {},
   "outputs": [
    {
     "name": "stdout",
     "output_type": "stream",
     "text": [
      "tensor([[-0.9353, -1.2223,  1.5384,  0.1396,  1.2037,  0.6273, -1.3225, -0.1684],\n",
      "        [ 0.9595,  0.0252,  0.3197,  0.0388,  1.1818, -1.2464,  0.0517,  0.6584]])\n"
     ]
    }
   ],
   "source": [
    "print(con_2)"
   ]
  },
  {
   "cell_type": "code",
   "execution_count": 114,
   "id": "2ef7d738-1ca4-4cb6-9d94-8976121c5963",
   "metadata": {},
   "outputs": [],
   "source": [
    "tensor_1 = torch.tensor([1,2,3,4])"
   ]
  },
  {
   "cell_type": "code",
   "execution_count": 115,
   "id": "900125c9-d3d0-4334-897c-5d9c79680109",
   "metadata": {},
   "outputs": [],
   "source": [
    "tensor_a = torch.unsqueeze(tensor_1, 0)"
   ]
  },
  {
   "cell_type": "code",
   "execution_count": 116,
   "id": "da20b218-7005-4682-8769-2ba6f472107c",
   "metadata": {},
   "outputs": [
    {
     "name": "stdout",
     "output_type": "stream",
     "text": [
      "tensor([[1, 2, 3, 4]])\n"
     ]
    }
   ],
   "source": [
    "print(tensor_a)"
   ]
  },
  {
   "cell_type": "code",
   "execution_count": 117,
   "id": "714a16d1-18ed-4914-aef1-a62c70785a41",
   "metadata": {},
   "outputs": [
    {
     "name": "stdout",
     "output_type": "stream",
     "text": [
      "torch.Size([1, 4])\n"
     ]
    }
   ],
   "source": [
    "print(tensor_a.shape)"
   ]
  },
  {
   "cell_type": "code",
   "execution_count": 118,
   "id": "a8d42bec-837d-4fdb-a2d0-5952c933f0f8",
   "metadata": {},
   "outputs": [],
   "source": [
    "tensor_b = torch.unsqueeze(tensor_1, 1)"
   ]
  },
  {
   "cell_type": "code",
   "execution_count": 119,
   "id": "b0a76ca9-eb7a-434b-9df1-a349c7b8370c",
   "metadata": {},
   "outputs": [
    {
     "name": "stdout",
     "output_type": "stream",
     "text": [
      "tensor([[1],\n",
      "        [2],\n",
      "        [3],\n",
      "        [4]])\n"
     ]
    }
   ],
   "source": [
    "print(tensor_b)"
   ]
  },
  {
   "cell_type": "code",
   "execution_count": 120,
   "id": "ecbed070-887c-4106-a3c8-3a518ed3afc3",
   "metadata": {},
   "outputs": [
    {
     "name": "stdout",
     "output_type": "stream",
     "text": [
      "torch.Size([4, 1])\n"
     ]
    }
   ],
   "source": [
    "print(tensor_b.shape)"
   ]
  },
  {
   "cell_type": "code",
   "execution_count": 131,
   "id": "9d7929af-52a2-42bd-9068-29cf7d0cf457",
   "metadata": {},
   "outputs": [],
   "source": [
    "tensor_2 = torch.randn(2, 3, 4)"
   ]
  },
  {
   "cell_type": "code",
   "execution_count": 132,
   "id": "717acb1a-e0ea-43dd-b859-8629e9fe2422",
   "metadata": {},
   "outputs": [
    {
     "name": "stdout",
     "output_type": "stream",
     "text": [
      "tensor([[[-1.4751,  0.5792,  0.4506, -0.9252],\n",
      "         [ 0.7668,  0.9502,  0.4933, -2.4607],\n",
      "         [ 1.5088, -0.9620, -0.9692,  0.3598]],\n",
      "\n",
      "        [[-0.1929,  0.4457,  1.4867,  1.2544],\n",
      "         [ 1.9669, -0.3868, -1.5281,  0.1396],\n",
      "         [ 0.5461, -0.7090, -1.4329,  1.7165]]])\n"
     ]
    }
   ],
   "source": [
    "print(tensor_2)"
   ]
  },
  {
   "cell_type": "code",
   "execution_count": 133,
   "id": "b83d305f-c52e-4ecd-b2a4-a608dd7149ee",
   "metadata": {},
   "outputs": [],
   "source": [
    "tensor_c = tensor_2[:,:,2]"
   ]
  },
  {
   "cell_type": "code",
   "execution_count": 134,
   "id": "6e2115d5-1aba-4df7-9203-7c37a8e0a468",
   "metadata": {},
   "outputs": [
    {
     "name": "stdout",
     "output_type": "stream",
     "text": [
      "torch.Size([2, 3])\n"
     ]
    }
   ],
   "source": [
    "print(tensor_c.shape)"
   ]
  },
  {
   "cell_type": "code",
   "execution_count": 135,
   "id": "e06a79f9-49bf-4c82-89ee-5f3d806d6ec1",
   "metadata": {},
   "outputs": [
    {
     "name": "stdout",
     "output_type": "stream",
     "text": [
      "tensor([[ 0.4506,  0.4933, -0.9692],\n",
      "        [ 1.4867, -1.5281, -1.4329]])\n"
     ]
    }
   ],
   "source": [
    "print(tensor_c)"
   ]
  },
  {
   "cell_type": "code",
   "execution_count": 136,
   "id": "39a05389-5277-4651-83db-d0fd1de8fb0e",
   "metadata": {},
   "outputs": [],
   "source": [
    "tensor_d = torch.unsqueeze(tensor_c, 2)"
   ]
  },
  {
   "cell_type": "code",
   "execution_count": 137,
   "id": "ee9ad81e-44ee-4677-971e-118f07e43625",
   "metadata": {},
   "outputs": [
    {
     "name": "stdout",
     "output_type": "stream",
     "text": [
      "tensor([[[ 0.4506],\n",
      "         [ 0.4933],\n",
      "         [-0.9692]],\n",
      "\n",
      "        [[ 1.4867],\n",
      "         [-1.5281],\n",
      "         [-1.4329]]])\n"
     ]
    }
   ],
   "source": [
    "print(tensor_d)"
   ]
  },
  {
   "cell_type": "code",
   "execution_count": 138,
   "id": "c3a16a16-a9ba-48a7-a922-9c60ea6b04d1",
   "metadata": {},
   "outputs": [
    {
     "name": "stdout",
     "output_type": "stream",
     "text": [
      "torch.Size([2, 3, 1])\n"
     ]
    }
   ],
   "source": [
    "print(tensor_d.shape)"
   ]
  },
  {
   "cell_type": "code",
   "execution_count": null,
   "id": "5868035d-c02e-4bb3-869b-d3739581a238",
   "metadata": {},
   "outputs": [],
   "source": []
  }
 ],
 "metadata": {
  "kernelspec": {
   "display_name": "Python (myenv)",
   "language": "python",
   "name": "myenv"
  },
  "language_info": {
   "codemirror_mode": {
    "name": "ipython",
    "version": 3
   },
   "file_extension": ".py",
   "mimetype": "text/x-python",
   "name": "python",
   "nbconvert_exporter": "python",
   "pygments_lexer": "ipython3",
   "version": "3.12.3"
  }
 },
 "nbformat": 4,
 "nbformat_minor": 5
}
