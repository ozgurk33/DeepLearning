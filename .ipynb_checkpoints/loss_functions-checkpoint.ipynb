{
 "cells": [
  {
   "cell_type": "code",
   "execution_count": 36,
   "id": "01b8a289-e96d-43e8-981d-df23417387e5",
   "metadata": {},
   "outputs": [],
   "source": [
    "import torch\n",
    "import torch.nn as nn"
   ]
  },
  {
   "cell_type": "code",
   "execution_count": 37,
   "id": "44a1e3ce-1cf2-4f2e-b635-95cc3b154e07",
   "metadata": {},
   "outputs": [],
   "source": [
    "prediction = torch.randn(4, 5)"
   ]
  },
  {
   "cell_type": "code",
   "execution_count": 38,
   "id": "558e7f2d-1a1b-4917-82e7-a58bfcdbca9c",
   "metadata": {},
   "outputs": [],
   "source": [
    "label = torch.randn(4, 5)"
   ]
  },
  {
   "cell_type": "code",
   "execution_count": 39,
   "id": "ab99697a-6634-4ad9-b4f6-db2829e3ac77",
   "metadata": {},
   "outputs": [],
   "source": [
    "mse = nn.MSELoss(reduction = 'mean')"
   ]
  },
  {
   "cell_type": "code",
   "execution_count": 40,
   "id": "fab9cbc3-a66c-4361-80ac-c071a013a222",
   "metadata": {},
   "outputs": [],
   "source": [
    "loss = mse(prediction, label)"
   ]
  },
  {
   "cell_type": "code",
   "execution_count": 41,
   "id": "1222e971-d7da-4069-b3cf-5112ab899d6f",
   "metadata": {},
   "outputs": [
    {
     "data": {
      "text/plain": [
       "tensor(2.5592)"
      ]
     },
     "execution_count": 41,
     "metadata": {},
     "output_type": "execute_result"
    }
   ],
   "source": [
    "loss"
   ]
  },
  {
   "cell_type": "code",
   "execution_count": 42,
   "id": "1555b258-8250-4109-a001-261d63a138da",
   "metadata": {},
   "outputs": [
    {
     "data": {
      "text/plain": [
       "tensor(2.5592)"
      ]
     },
     "execution_count": 42,
     "metadata": {},
     "output_type": "execute_result"
    }
   ],
   "source": [
    "((prediction-label)**2).mean()"
   ]
  },
  {
   "cell_type": "code",
   "execution_count": 43,
   "id": "47f7aedd-c0cf-4c31-883f-83c05540f09a",
   "metadata": {},
   "outputs": [
    {
     "data": {
      "text/plain": [
       "tensor([[-0.7268,  0.4381, -0.1289, -0.3025, -1.4270],\n",
       "        [-0.8585,  1.3511,  1.1772,  1.6703,  1.3985],\n",
       "        [ 0.6976, -0.0723,  1.0251, -0.0912, -0.6340],\n",
       "        [-0.1260, -1.3353, -0.4353, -0.8173,  1.9002]])"
      ]
     },
     "execution_count": 43,
     "metadata": {},
     "output_type": "execute_result"
    }
   ],
   "source": [
    "prediction"
   ]
  },
  {
   "cell_type": "code",
   "execution_count": 44,
   "id": "6ecd294f-4d7b-41e0-8e8b-a9c30e6a90c2",
   "metadata": {},
   "outputs": [],
   "source": [
    "label = torch.zeros(4, 5).random_(0,2)"
   ]
  },
  {
   "cell_type": "code",
   "execution_count": 45,
   "id": "0dd8845a-277e-4253-b5b4-8f865c24667d",
   "metadata": {},
   "outputs": [
    {
     "data": {
      "text/plain": [
       "tensor([[0., 0., 0., 0., 0.],\n",
       "        [0., 0., 0., 0., 0.],\n",
       "        [0., 1., 1., 0., 0.],\n",
       "        [1., 1., 0., 0., 1.]])"
      ]
     },
     "execution_count": 45,
     "metadata": {},
     "output_type": "execute_result"
    }
   ],
   "source": [
    "label"
   ]
  },
  {
   "cell_type": "code",
   "execution_count": 46,
   "id": "6eb599d6-88ed-4be4-b261-936dad4d62ee",
   "metadata": {},
   "outputs": [],
   "source": [
    "sigmoid = nn.Sigmoid()"
   ]
  },
  {
   "cell_type": "code",
   "execution_count": 47,
   "id": "c777f8dd-f562-4e05-9d68-8924573cf73f",
   "metadata": {},
   "outputs": [],
   "source": [
    "bce = nn.BCELoss(reduction = 'mean')"
   ]
  },
  {
   "cell_type": "code",
   "execution_count": 48,
   "id": "a7158c94-e116-4572-9f2a-527a9531f7ad",
   "metadata": {},
   "outputs": [
    {
     "data": {
      "text/plain": [
       "tensor(0.8058)"
      ]
     },
     "execution_count": 48,
     "metadata": {},
     "output_type": "execute_result"
    }
   ],
   "source": [
    "bce(sigmoid(prediction), label)"
   ]
  },
  {
   "cell_type": "code",
   "execution_count": 49,
   "id": "dfedb6c5-1c37-4d6f-bcc8-6d1104146001",
   "metadata": {},
   "outputs": [],
   "source": [
    "bces = nn.BCEWithLogitsLoss(reduction = 'mean')"
   ]
  },
  {
   "cell_type": "code",
   "execution_count": 50,
   "id": "ab76f3ff-8546-497d-b3f2-142040555255",
   "metadata": {},
   "outputs": [
    {
     "data": {
      "text/plain": [
       "tensor(0.8058)"
      ]
     },
     "execution_count": 50,
     "metadata": {},
     "output_type": "execute_result"
    }
   ],
   "source": [
    "bces(prediction, label)"
   ]
  },
  {
   "cell_type": "code",
   "execution_count": 51,
   "id": "19cc2e96-0b9b-4c42-a355-b697b6843102",
   "metadata": {},
   "outputs": [],
   "source": [
    "import numpy as np"
   ]
  },
  {
   "cell_type": "code",
   "execution_count": 52,
   "id": "70526b66-bce1-4eaa-948c-94c7211d0010",
   "metadata": {},
   "outputs": [],
   "source": [
    "x = prediction.numpy()"
   ]
  },
  {
   "cell_type": "code",
   "execution_count": 53,
   "id": "98e401ca-d2cb-4165-9dc5-3767969872cf",
   "metadata": {},
   "outputs": [],
   "source": [
    "y = label.numpy()"
   ]
  },
  {
   "cell_type": "code",
   "execution_count": 54,
   "id": "95f342a5-fdf7-44aa-b460-e9961d1ebfc7",
   "metadata": {},
   "outputs": [],
   "source": [
    "loss_values = []"
   ]
  },
  {
   "cell_type": "code",
   "execution_count": 57,
   "id": "72b7fe6a-3330-45db-bb4c-2ef7dace0167",
   "metadata": {},
   "outputs": [
    {
     "name": "stdout",
     "output_type": "stream",
     "text": [
      "nan\n"
     ]
    },
    {
     "name": "stderr",
     "output_type": "stream",
     "text": [
      "/tmp/ipykernel_5838/312092926.py:4: RuntimeWarning: invalid value encountered in log\n",
      "  batch_loss.append(-np.log(x[i][j]) if y[i][j] == 1 else -np.log(1-x[i][j]))\n"
     ]
    }
   ],
   "source": [
    "for i in range(len(y)):\n",
    "    batch_loss = []\n",
    "    for j in range(len(y[0])):\n",
    "        batch_loss.append(-np.log(x[i][j]) if y[i][j] == 1 else -np.log(1-x[i][j]))\n",
    "    loss_values.append(batch_loss)\n",
    "print(np.mean(loss_values))"
   ]
  },
  {
   "cell_type": "code",
   "execution_count": null,
   "id": "73ad9a7a-29c5-4268-bc54-73cedf68c03d",
   "metadata": {},
   "outputs": [],
   "source": []
  },
  {
   "cell_type": "code",
   "execution_count": null,
   "id": "42ec33f6-e7e8-4380-aabd-685f8b9082bb",
   "metadata": {},
   "outputs": [],
   "source": []
  }
 ],
 "metadata": {
  "kernelspec": {
   "display_name": "Python (myenv)",
   "language": "python",
   "name": "myenv"
  },
  "language_info": {
   "codemirror_mode": {
    "name": "ipython",
    "version": 3
   },
   "file_extension": ".py",
   "mimetype": "text/x-python",
   "name": "python",
   "nbconvert_exporter": "python",
   "pygments_lexer": "ipython3",
   "version": "3.12.3"
  }
 },
 "nbformat": 4,
 "nbformat_minor": 5
}
