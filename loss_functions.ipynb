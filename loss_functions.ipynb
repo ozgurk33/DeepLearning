{
 "cells": [
  {
   "cell_type": "code",
   "execution_count": 1,
   "id": "01b8a289-e96d-43e8-981d-df23417387e5",
   "metadata": {},
   "outputs": [],
   "source": [
    "import torch\n",
    "import torch.nn as nn"
   ]
  },
  {
   "cell_type": "code",
   "execution_count": 2,
   "id": "44a1e3ce-1cf2-4f2e-b635-95cc3b154e07",
   "metadata": {},
   "outputs": [],
   "source": [
    "prediction = torch.randn(4, 5)"
   ]
  },
  {
   "cell_type": "code",
   "execution_count": 3,
   "id": "558e7f2d-1a1b-4917-82e7-a58bfcdbca9c",
   "metadata": {},
   "outputs": [],
   "source": [
    "label = torch.randn(4, 5)"
   ]
  },
  {
   "cell_type": "code",
   "execution_count": 4,
   "id": "ab99697a-6634-4ad9-b4f6-db2829e3ac77",
   "metadata": {},
   "outputs": [],
   "source": [
    "mse = nn.MSELoss(reduction = 'mean')"
   ]
  },
  {
   "cell_type": "code",
   "execution_count": 5,
   "id": "fab9cbc3-a66c-4361-80ac-c071a013a222",
   "metadata": {},
   "outputs": [],
   "source": [
    "loss = mse(prediction, label)"
   ]
  },
  {
   "cell_type": "code",
   "execution_count": 6,
   "id": "1222e971-d7da-4069-b3cf-5112ab899d6f",
   "metadata": {},
   "outputs": [
    {
     "data": {
      "text/plain": [
       "tensor(1.6878)"
      ]
     },
     "execution_count": 6,
     "metadata": {},
     "output_type": "execute_result"
    }
   ],
   "source": [
    "loss"
   ]
  },
  {
   "cell_type": "code",
   "execution_count": 7,
   "id": "1555b258-8250-4109-a001-261d63a138da",
   "metadata": {},
   "outputs": [
    {
     "data": {
      "text/plain": [
       "tensor(1.6878)"
      ]
     },
     "execution_count": 7,
     "metadata": {},
     "output_type": "execute_result"
    }
   ],
   "source": [
    "((prediction-label)**2).mean()"
   ]
  },
  {
   "cell_type": "code",
   "execution_count": 8,
   "id": "47f7aedd-c0cf-4c31-883f-83c05540f09a",
   "metadata": {},
   "outputs": [
    {
     "data": {
      "text/plain": [
       "tensor([[ 0.7432, -0.3453, -0.4920, -0.6573,  0.9105],\n",
       "        [ 1.0449,  0.9761,  1.4478, -0.0908,  0.6256],\n",
       "        [ 0.3394,  2.4997,  0.2582,  1.0676, -0.1858],\n",
       "        [-0.8424,  0.2435,  0.7354, -0.5448,  0.9920]])"
      ]
     },
     "execution_count": 8,
     "metadata": {},
     "output_type": "execute_result"
    }
   ],
   "source": [
    "prediction"
   ]
  },
  {
   "cell_type": "code",
   "execution_count": 9,
   "id": "6ecd294f-4d7b-41e0-8e8b-a9c30e6a90c2",
   "metadata": {},
   "outputs": [],
   "source": [
    "label = torch.zeros(4, 5).random_(0,2)"
   ]
  },
  {
   "cell_type": "code",
   "execution_count": 10,
   "id": "0dd8845a-277e-4253-b5b4-8f865c24667d",
   "metadata": {},
   "outputs": [
    {
     "data": {
      "text/plain": [
       "tensor([[1., 0., 1., 0., 0.],\n",
       "        [1., 1., 0., 0., 0.],\n",
       "        [0., 0., 0., 0., 0.],\n",
       "        [1., 0., 0., 1., 0.]])"
      ]
     },
     "execution_count": 10,
     "metadata": {},
     "output_type": "execute_result"
    }
   ],
   "source": [
    "label"
   ]
  },
  {
   "cell_type": "code",
   "execution_count": 11,
   "id": "6eb599d6-88ed-4be4-b261-936dad4d62ee",
   "metadata": {},
   "outputs": [],
   "source": [
    "sigmoid = nn.Sigmoid()"
   ]
  },
  {
   "cell_type": "code",
   "execution_count": 12,
   "id": "c777f8dd-f562-4e05-9d68-8924573cf73f",
   "metadata": {},
   "outputs": [],
   "source": [
    "bce = nn.BCELoss(reduction = 'mean')"
   ]
  },
  {
   "cell_type": "code",
   "execution_count": 13,
   "id": "a7158c94-e116-4572-9f2a-527a9531f7ad",
   "metadata": {},
   "outputs": [
    {
     "data": {
      "text/plain": [
       "tensor(0.9628)"
      ]
     },
     "execution_count": 13,
     "metadata": {},
     "output_type": "execute_result"
    }
   ],
   "source": [
    "bce(sigmoid(prediction), label)"
   ]
  },
  {
   "cell_type": "code",
   "execution_count": 14,
   "id": "dfedb6c5-1c37-4d6f-bcc8-6d1104146001",
   "metadata": {},
   "outputs": [],
   "source": [
    "bces = nn.BCEWithLogitsLoss(reduction = 'mean')"
   ]
  },
  {
   "cell_type": "code",
   "execution_count": 15,
   "id": "ab76f3ff-8546-497d-b3f2-142040555255",
   "metadata": {},
   "outputs": [
    {
     "data": {
      "text/plain": [
       "tensor(0.9628)"
      ]
     },
     "execution_count": 15,
     "metadata": {},
     "output_type": "execute_result"
    }
   ],
   "source": [
    "bces(prediction, label)"
   ]
  },
  {
   "cell_type": "code",
   "execution_count": 16,
   "id": "19cc2e96-0b9b-4c42-a355-b697b6843102",
   "metadata": {},
   "outputs": [],
   "source": [
    "import numpy as np"
   ]
  },
  {
   "cell_type": "code",
   "execution_count": 17,
   "id": "70526b66-bce1-4eaa-948c-94c7211d0010",
   "metadata": {},
   "outputs": [],
   "source": [
    "x = prediction.numpy()"
   ]
  },
  {
   "cell_type": "code",
   "execution_count": 18,
   "id": "98e401ca-d2cb-4165-9dc5-3767969872cf",
   "metadata": {},
   "outputs": [],
   "source": [
    "y = label.numpy()"
   ]
  },
  {
   "cell_type": "code",
   "execution_count": 21,
   "id": "2d550b31-1289-4270-b041-bcde58e28ef6",
   "metadata": {},
   "outputs": [],
   "source": [
    "def sigmoid(x):\n",
    "    return 1 / (1 + np.exp(-x))"
   ]
  },
  {
   "cell_type": "code",
   "execution_count": 23,
   "id": "24fe1315-9af5-43e5-9cdb-491cf478fb17",
   "metadata": {},
   "outputs": [
    {
     "data": {
      "text/plain": [
       "array([[ 0.7432184 , -0.34534374, -0.49197358, -0.65725815,  0.9105229 ],\n",
       "       [ 1.0449255 ,  0.9761345 ,  1.4477737 , -0.0907654 ,  0.62562156],\n",
       "       [ 0.3394345 ,  2.4997199 ,  0.25816426,  1.0676193 , -0.18584526],\n",
       "       [-0.84244233,  0.24349982,  0.73541737, -0.54482067,  0.99195796]],\n",
       "      dtype=float32)"
      ]
     },
     "execution_count": 23,
     "metadata": {},
     "output_type": "execute_result"
    }
   ],
   "source": [
    "x"
   ]
  },
  {
   "cell_type": "code",
   "execution_count": 25,
   "id": "d26a4ac4-a252-457e-a33f-0dea335330af",
   "metadata": {},
   "outputs": [],
   "source": [
    "x = sigmoid(x)"
   ]
  },
  {
   "cell_type": "code",
   "execution_count": 26,
   "id": "95f342a5-fdf7-44aa-b460-e9961d1ebfc7",
   "metadata": {},
   "outputs": [],
   "source": [
    "loss_values = []"
   ]
  },
  {
   "cell_type": "code",
   "execution_count": 27,
   "id": "72b7fe6a-3330-45db-bb4c-2ef7dace0167",
   "metadata": {},
   "outputs": [
    {
     "name": "stdout",
     "output_type": "stream",
     "text": [
      "0.9628049\n"
     ]
    }
   ],
   "source": [
    "for i in range(len(y)):\n",
    "    batch_loss = []\n",
    "    for j in range(len(y[0])):\n",
    "        batch_loss.append(-np.log(x[i][j]) if y[i][j] == 1 else -np.log(1-x[i][j]))\n",
    "    loss_values.append(batch_loss)\n",
    "print(np.mean(loss_values))"
   ]
  }
 ],
 "metadata": {
  "kernelspec": {
   "display_name": "Python (myenv)",
   "language": "python",
   "name": "myenv"
  },
  "language_info": {
   "codemirror_mode": {
    "name": "ipython",
    "version": 3
   },
   "file_extension": ".py",
   "mimetype": "text/x-python",
   "name": "python",
   "nbconvert_exporter": "python",
   "pygments_lexer": "ipython3",
   "version": "3.12.3"
  }
 },
 "nbformat": 4,
 "nbformat_minor": 5
}
