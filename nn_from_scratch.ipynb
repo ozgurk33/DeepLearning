{
 "cells": [
  {
   "cell_type": "code",
   "execution_count": 1,
   "id": "8265bb02-e56f-4197-84e5-e5e6bee5ee86",
   "metadata": {},
   "outputs": [],
   "source": [
    "import numpy as np\n",
    "import matplotlib.pyplot as plt\n",
    "import sklearn.datasets"
   ]
  },
  {
   "cell_type": "code",
   "execution_count": 2,
   "id": "4bf5fcba-4a9e-4bbb-8b28-56e9fc1d0170",
   "metadata": {},
   "outputs": [],
   "source": [
    "X, y = sklearn.datasets.make_moons(200, noise = 0.15)"
   ]
  },
  {
   "cell_type": "code",
   "execution_count": 3,
   "id": "bda89596-1a0a-4b34-aad6-1260ab572ac8",
   "metadata": {
    "scrolled": true
   },
   "outputs": [
    {
     "data": {
      "text/plain": [
       "array([[ 1.60496113e+00, -1.48609522e-01],\n",
       "       [ 2.03779911e-01, -2.60685476e-01],\n",
       "       [ 5.53268405e-01, -6.07102346e-01],\n",
       "       [ 9.25597532e-01, -5.80063077e-01],\n",
       "       [ 2.13502863e-01,  4.90415309e-02],\n",
       "       [ 1.55831726e-01,  5.11290974e-01],\n",
       "       [ 7.84026461e-02,  1.20628246e-01],\n",
       "       [ 7.24998784e-02,  1.21621339e+00],\n",
       "       [ 8.56294893e-01,  7.55976812e-01],\n",
       "       [-4.39788876e-02,  9.86920065e-01],\n",
       "       [ 5.45279923e-01, -2.14464233e-01],\n",
       "       [ 1.04531706e+00,  4.35323251e-01],\n",
       "       [ 1.43086715e+00, -5.33298335e-01],\n",
       "       [ 1.54678358e+00, -4.91425052e-01],\n",
       "       [-6.77986138e-01,  1.04501651e+00],\n",
       "       [-1.02429230e+00, -7.86329858e-02],\n",
       "       [ 6.72590928e-01,  9.76003903e-01],\n",
       "       [ 1.32585932e+00, -3.48049758e-01],\n",
       "       [-1.15783464e+00,  3.43329807e-01],\n",
       "       [ 3.30271902e-02,  2.81024692e-01],\n",
       "       [ 7.39360926e-01,  2.45626055e-01],\n",
       "       [ 4.06276211e-01, -3.76953376e-01],\n",
       "       [ 1.99726250e+00,  3.95231134e-01],\n",
       "       [ 3.57036354e-01, -4.50931891e-01],\n",
       "       [ 1.02720374e+00, -7.78614066e-01],\n",
       "       [ 5.52705322e-01,  5.64894315e-01],\n",
       "       [ 2.30707009e-01, -5.16979814e-01],\n",
       "       [ 3.28793540e-01, -4.32632797e-01],\n",
       "       [-9.56959993e-01,  3.65065076e-01],\n",
       "       [ 1.60372838e+00, -1.74790052e-01],\n",
       "       [ 1.01091256e+00, -1.00308744e-01],\n",
       "       [ 1.96576005e+00,  3.67047412e-01],\n",
       "       [ 3.15485109e-01,  7.54606878e-01],\n",
       "       [ 1.38667377e+00, -2.50245717e-01],\n",
       "       [ 3.43328755e-01,  8.79681748e-01],\n",
       "       [ 2.55293864e-01,  9.97671428e-01],\n",
       "       [ 2.04902263e+00,  4.53218255e-01],\n",
       "       [ 1.45303387e+00, -4.58388054e-01],\n",
       "       [-6.94475588e-03,  1.11399561e+00],\n",
       "       [ 3.75778217e-01,  8.70811282e-01],\n",
       "       [ 1.14567540e+00, -6.53702979e-01],\n",
       "       [-7.23511741e-01,  7.06220614e-01],\n",
       "       [ 1.90393477e+00, -1.38928301e-02],\n",
       "       [-1.64229905e-01,  1.08725585e+00],\n",
       "       [ 6.44281001e-01,  6.93708422e-01],\n",
       "       [-9.16479405e-01,  2.45178774e-01],\n",
       "       [ 1.13108614e+00,  5.05489884e-01],\n",
       "       [-4.00683044e-01,  8.55394294e-01],\n",
       "       [ 1.07178324e+00, -5.32536725e-01],\n",
       "       [ 3.81059247e-01, -3.26144420e-01],\n",
       "       [ 1.93486716e+00,  1.59665404e-01],\n",
       "       [-3.55615555e-01,  3.92149147e-01],\n",
       "       [ 2.46703304e-01, -2.00965426e-01],\n",
       "       [-3.21274489e-01,  5.90145164e-01],\n",
       "       [ 1.98385851e+00,  4.89366586e-02],\n",
       "       [ 7.29565762e-01, -6.75894208e-01],\n",
       "       [ 2.86580502e-01, -4.06683847e-02],\n",
       "       [ 4.03070899e-01,  9.99852786e-01],\n",
       "       [ 1.83447363e+00, -3.24631102e-01],\n",
       "       [ 2.05045662e+00,  3.05147098e-01],\n",
       "       [ 1.05520373e+00, -3.27143877e-01],\n",
       "       [ 1.75882018e+00, -1.72500798e-01],\n",
       "       [ 1.76130799e+00, -5.01223401e-01],\n",
       "       [-7.19574849e-02,  8.69483543e-01],\n",
       "       [ 6.93066472e-01,  7.92940227e-01],\n",
       "       [ 4.33837384e-01,  9.27904208e-01],\n",
       "       [ 1.16258570e+00,  5.30788062e-02],\n",
       "       [ 2.59131428e-01, -4.30563814e-01],\n",
       "       [ 1.76898922e+00,  3.96534122e-01],\n",
       "       [ 6.79680353e-01,  7.30171357e-01],\n",
       "       [-6.98875558e-01,  6.53133471e-01],\n",
       "       [ 1.71049162e+00, -4.01937853e-01],\n",
       "       [ 1.80628567e+00, -2.37653707e-01],\n",
       "       [ 6.56250007e-01, -5.99913042e-01],\n",
       "       [ 1.47916551e+00, -5.25170466e-01],\n",
       "       [-2.03382837e-01,  1.13687229e+00],\n",
       "       [ 2.05283517e+00,  9.01924600e-02],\n",
       "       [ 1.08996510e+00, -4.04183444e-01],\n",
       "       [ 8.05215837e-01,  7.12124726e-01],\n",
       "       [ 5.24690889e-01,  4.97648040e-01],\n",
       "       [ 1.11378650e+00,  1.48270609e-01],\n",
       "       [-1.30967996e+00,  4.25257980e-01],\n",
       "       [ 1.26640531e+00, -3.43985318e-01],\n",
       "       [ 6.82885757e-01,  5.05896452e-01],\n",
       "       [-9.46264247e-01,  2.77526337e-01],\n",
       "       [-1.04741348e+00,  1.60881475e-01],\n",
       "       [ 1.18520083e+00,  2.67722087e-01],\n",
       "       [ 5.60517547e-01,  8.17191586e-01],\n",
       "       [ 8.09406986e-01, -5.14634328e-01],\n",
       "       [ 8.16695115e-01,  6.24635183e-01],\n",
       "       [-6.75523771e-01,  4.55606387e-01],\n",
       "       [ 1.03240449e-01,  1.09230737e+00],\n",
       "       [-3.54996579e-03,  1.06478691e+00],\n",
       "       [-4.62448620e-02,  1.48183679e-01],\n",
       "       [ 9.18209165e-01, -4.49781735e-01],\n",
       "       [ 1.21906198e+00, -5.25756342e-01],\n",
       "       [ 9.38060692e-01, -2.83333125e-01],\n",
       "       [ 1.49280720e-01,  3.64234882e-02],\n",
       "       [ 1.29339442e+00, -3.13921740e-01],\n",
       "       [ 1.86060664e+00, -2.67757533e-01],\n",
       "       [ 7.23524224e-01,  2.80813726e-01],\n",
       "       [ 6.35889449e-01, -4.92162179e-01],\n",
       "       [-3.11737590e-01,  7.72418856e-01],\n",
       "       [ 9.57010448e-01, -2.50852478e-02],\n",
       "       [ 8.58192881e-01,  5.75343944e-01],\n",
       "       [ 2.74098161e-01, -3.74592627e-02],\n",
       "       [-2.50793023e-01,  9.44747883e-01],\n",
       "       [-1.63274868e-01,  1.23867495e+00],\n",
       "       [-9.45271342e-01,  4.27604815e-01],\n",
       "       [-2.83757930e-02, -6.16142810e-02],\n",
       "       [-8.22967442e-01,  5.25178267e-01],\n",
       "       [ 1.87471032e-02,  2.21963280e-01],\n",
       "       [ 1.65701137e+00, -4.58537525e-01],\n",
       "       [ 1.77409781e+00, -2.48803236e-01],\n",
       "       [-1.98125703e-02,  3.06028228e-01],\n",
       "       [-5.95392200e-01,  6.08024892e-01],\n",
       "       [-5.26600772e-01,  8.54927574e-01],\n",
       "       [ 7.51882831e-01, -4.01611769e-01],\n",
       "       [-5.72800229e-01,  1.01614174e-01],\n",
       "       [-3.65341608e-02,  1.11762509e+00],\n",
       "       [ 1.07473200e-01,  7.80035442e-02],\n",
       "       [ 1.92943353e+00, -1.68866266e-01],\n",
       "       [-7.99320275e-01,  5.50197046e-01],\n",
       "       [-1.02458388e+00,  8.32744754e-01],\n",
       "       [ 1.66170892e+00, -5.18296520e-02],\n",
       "       [-1.15499026e+00,  3.64291096e-01],\n",
       "       [ 3.80967948e-01,  1.77711444e-01],\n",
       "       [-8.30810571e-02,  7.91592496e-01],\n",
       "       [-4.26241758e-01,  7.07170424e-01],\n",
       "       [-9.51995527e-01,  4.33134818e-01],\n",
       "       [ 8.83753433e-01,  2.50553308e-01],\n",
       "       [ 1.11213942e+00, -3.30541021e-01],\n",
       "       [ 1.91915408e-01,  1.01577335e+00],\n",
       "       [ 1.29424284e+00, -3.97151173e-01],\n",
       "       [ 8.51454263e-01,  5.25380576e-01],\n",
       "       [ 2.41389089e-02,  8.04285853e-01],\n",
       "       [ 4.16517555e-01,  8.97489786e-01],\n",
       "       [ 1.83335749e+00,  2.46850604e-01],\n",
       "       [ 9.73249485e-01,  2.05733342e-01],\n",
       "       [-1.70293718e-01,  1.89723440e-01],\n",
       "       [ 4.22171317e-01, -3.67247673e-01],\n",
       "       [-1.42840460e-01,  1.05986628e+00],\n",
       "       [-3.05233955e-01,  4.80224426e-01],\n",
       "       [ 9.25041986e-01, -4.00575180e-01],\n",
       "       [ 7.18684053e-01, -2.05322610e-01],\n",
       "       [ 3.40397743e-01,  8.34473890e-01],\n",
       "       [ 1.11031449e+00,  3.16778999e-01],\n",
       "       [ 1.18526569e+00,  5.72097722e-01],\n",
       "       [ 1.87387401e+00,  1.69315420e-01],\n",
       "       [ 1.09589493e+00,  1.90844894e-01],\n",
       "       [-7.06126998e-01,  3.74877915e-01],\n",
       "       [ 3.31906726e-01,  1.05023158e+00],\n",
       "       [-5.18838005e-01,  3.92784978e-01],\n",
       "       [-1.43383105e-01,  7.23539366e-01],\n",
       "       [ 6.68073951e-01, -5.82670128e-01],\n",
       "       [ 1.02418988e-01, -3.89807732e-01],\n",
       "       [ 1.29932884e+00, -4.09442597e-01],\n",
       "       [ 4.29312670e-02,  1.16349734e+00],\n",
       "       [-7.87932294e-01, -1.22627891e-01],\n",
       "       [ 1.71689346e-01,  1.22722508e-01],\n",
       "       [-9.34632954e-02, -2.46490606e-01],\n",
       "       [-3.07657737e-01,  7.75747884e-01],\n",
       "       [-9.19575933e-01,  5.18628517e-01],\n",
       "       [ 1.09576882e+00, -7.07203213e-01],\n",
       "       [-5.72965387e-01,  9.65880370e-01],\n",
       "       [ 2.11062902e+00,  1.18669702e-01],\n",
       "       [ 2.10305583e+00,  8.41717667e-02],\n",
       "       [ 6.03621235e-01,  1.08477383e+00],\n",
       "       [ 9.88227881e-01,  1.94614823e-01],\n",
       "       [ 3.14303944e-01,  9.10759878e-01],\n",
       "       [-3.67439386e-01,  4.57014993e-01],\n",
       "       [ 3.51929683e-01,  6.45150661e-01],\n",
       "       [ 1.77876396e+00, -8.92280328e-02],\n",
       "       [ 1.51804726e+00, -4.27820487e-01],\n",
       "       [-1.89501486e-02,  4.92765871e-01],\n",
       "       [-1.73093213e-01,  8.33240370e-01],\n",
       "       [-1.06819586e+00, -8.67064021e-02],\n",
       "       [ 1.67549567e+00, -2.38105233e-03],\n",
       "       [-8.37242469e-01,  6.68112617e-01],\n",
       "       [-5.14682660e-01,  1.01817118e+00],\n",
       "       [ 8.17495575e-01, -6.03343867e-01],\n",
       "       [-9.93106479e-01,  1.74482515e-01],\n",
       "       [ 1.05653919e+00,  5.79813139e-02],\n",
       "       [-1.46279437e-01,  6.83558606e-01],\n",
       "       [ 2.92772077e-01, -2.51393602e-01],\n",
       "       [-9.66312309e-01,  4.30891424e-01],\n",
       "       [ 1.90149001e+00,  1.54982491e-01],\n",
       "       [ 9.71204240e-01, -5.13023784e-01],\n",
       "       [ 3.41450733e-02,  9.81224042e-03],\n",
       "       [ 9.29935911e-01,  9.27922094e-01],\n",
       "       [ 6.07242472e-01, -5.63973641e-01],\n",
       "       [-1.16572363e-01, -1.10226314e-01],\n",
       "       [ 2.04483704e+00,  3.79188117e-01],\n",
       "       [-1.10480674e+00, -4.89837445e-02],\n",
       "       [-3.20160014e-01,  8.99320887e-01],\n",
       "       [ 2.09070442e+00,  5.89863014e-01],\n",
       "       [ 1.62093530e-01,  3.73738755e-02],\n",
       "       [-1.57809698e-03,  3.22919086e-01],\n",
       "       [ 1.31664514e+00, -3.44138402e-01],\n",
       "       [ 1.66658990e+00, -1.05976519e-01]])"
      ]
     },
     "execution_count": 3,
     "metadata": {},
     "output_type": "execute_result"
    }
   ],
   "source": [
    "X"
   ]
  },
  {
   "cell_type": "code",
   "execution_count": 4,
   "id": "f5030fb3-231f-4a7a-b4e5-de074f440257",
   "metadata": {},
   "outputs": [
    {
     "data": {
      "text/plain": [
       "array([1, 1, 1, 1, 1, 1, 1, 0, 0, 0, 1, 0, 1, 1, 0, 0, 0, 1, 0, 1, 0, 1,\n",
       "       1, 1, 1, 0, 1, 1, 0, 1, 0, 1, 0, 1, 0, 0, 1, 1, 0, 0, 1, 0, 1, 0,\n",
       "       0, 0, 0, 0, 1, 1, 1, 1, 1, 0, 1, 1, 1, 0, 1, 1, 1, 1, 1, 0, 0, 0,\n",
       "       0, 1, 1, 0, 0, 1, 1, 1, 1, 0, 1, 1, 0, 0, 0, 0, 1, 0, 0, 0, 0, 0,\n",
       "       1, 0, 0, 0, 0, 1, 1, 1, 1, 1, 1, 1, 0, 1, 0, 0, 0, 1, 0, 0, 0, 1,\n",
       "       0, 1, 1, 1, 1, 0, 0, 1, 0, 0, 1, 1, 0, 0, 1, 0, 1, 0, 0, 0, 0, 1,\n",
       "       0, 1, 0, 0, 0, 1, 0, 1, 1, 0, 0, 0, 1, 0, 0, 0, 1, 0, 0, 0, 0, 0,\n",
       "       1, 1, 1, 0, 0, 1, 1, 0, 0, 1, 0, 1, 1, 0, 0, 0, 0, 0, 1, 1, 1, 0,\n",
       "       0, 1, 0, 0, 1, 0, 0, 1, 1, 0, 1, 1, 1, 0, 1, 1, 1, 0, 0, 1, 1, 1,\n",
       "       1, 1])"
      ]
     },
     "execution_count": 4,
     "metadata": {},
     "output_type": "execute_result"
    }
   ],
   "source": [
    "y"
   ]
  },
  {
   "cell_type": "code",
   "execution_count": 5,
   "id": "46cc2253-6d62-4a54-b273-a71996c18a1f",
   "metadata": {},
   "outputs": [
    {
     "data": {
      "text/plain": [
       "<matplotlib.collections.PathCollection at 0x7b26aadaa210>"
      ]
     },
     "execution_count": 5,
     "metadata": {},
     "output_type": "execute_result"
    },
    {
     "data": {
      "image/png": "[encoded data removed]",
      "text/plain": [
       "<Figure size 640x480 with 1 Axes>"
      ]
     },
     "metadata": {},
     "output_type": "display_data"
    }
   ],
   "source": [
    "plt.scatter(X[:,0], X[:, 1], c=y)"
   ]
  },
  {
   "cell_type": "code",
   "execution_count": 6,
   "id": "8f4b59bb-67f7-46b1-a5ce-164e66cd57da",
   "metadata": {},
   "outputs": [
    {
     "data": {
      "text/plain": [
       "(200, 2)"
      ]
     },
     "execution_count": 6,
     "metadata": {},
     "output_type": "execute_result"
    }
   ],
   "source": [
    "X.shape"
   ]
  },
  {
   "cell_type": "code",
   "execution_count": 7,
   "id": "6c881db6-45da-4886-9360-b75539fef025",
   "metadata": {},
   "outputs": [],
   "source": [
    "input_neurons = 2\n",
    "output_neurons = 2\n",
    "samples = X.shape[0]\n",
    "learning_rate = 0.001\n",
    "lambda_reg = 0.01"
   ]
  },
  {
   "cell_type": "code",
   "execution_count": 8,
   "id": "a917c95c-cd05-4526-a501-b0c0efa15c77",
   "metadata": {},
   "outputs": [],
   "source": [
    "def retrieve(model_dict):\n",
    "    W1 = model_dict['W1']\n",
    "    b1 = model_dict['b1']\n",
    "    W2 = model_dict['W2']\n",
    "    b2 = model_dict['b2']\n",
    "    return W1, b1, W2, b2"
   ]
  },
  {
   "cell_type": "code",
   "execution_count": 9,
   "id": "e4d6da86-d4c7-47e8-b21a-095a0c5dafe6",
   "metadata": {},
   "outputs": [],
   "source": [
    "def forward(x, model_dict):\n",
    "    W1, b1, W2, b2 = retrieve(model_dict)\n",
    "    z1 = X.dot(W1) + b1 \n",
    "    a1 = np.tanh(z1)\n",
    "    z2 = a1.dot(W2) + b2\n",
    "    exp_scores = np.exp(z2)\n",
    "    softmax = exp_scores / np.sum(exp_scores, axis=1, keepdims = True)\n",
    "    return z1, a1, softmax"
   ]
  },
  {
   "cell_type": "code",
   "execution_count": 10,
   "id": "bbaaa6b9-e452-46bf-86d8-0bcd1b7e8fa1",
   "metadata": {},
   "outputs": [],
   "source": [
    "def loss(softmax, y, model_dict):\n",
    "    W1, b1, W2, b2 = retrieve(model_dict)\n",
    "    m = np.zeros(200)\n",
    "    for i,correct_index in enumerate(y):\n",
    "        predicted = softmax[i][correct_index]\n",
    "        m[i] = predicted\n",
    "\n",
    "    log_prob = -np.log(m)\n",
    "    softmax_loss = np.sum(log_prob)\n",
    "    reg_loss = lambda_reg / 2*(np.sum(np.square(W1)) + np.sum(np.square(W2)))\n",
    "    loss = softmax_loss + reg_loss\n",
    "    return float(loss/ y.shape[0])"
   ]
  },
  {
   "cell_type": "code",
   "execution_count": 11,
   "id": "7878a9af-b26c-4ed1-8df5-917270d3c641",
   "metadata": {},
   "outputs": [],
   "source": [
    "def predict(x, model_dict):\n",
    "    W1, b1, W2, b2 = retrieve(model_dict)\n",
    "    z1 = X.dot(W1) + b1 \n",
    "    a1 = np.tanh(z1)\n",
    "    z2 = a1.dot(W2) + b2\n",
    "    exp_scores = np.exp(z2)\n",
    "    softmax = exp_scores / np.sum(exp_scores, dim=1, keepdims = True)\n",
    "    return np.argmax(softmax, axis = 1)"
   ]
  },
  {
   "cell_type": "code",
   "execution_count": 12,
   "id": "ff3dcabb-7103-4a13-9923-e6ae32e9c9eb",
   "metadata": {},
   "outputs": [],
   "source": [
    "def backpropagation(x, y, model_dict, epochs):\n",
    "    for i in range(epochs):\n",
    "        W1, b1, W2, b2 = retrieve(model_dict)\n",
    "        z1, a1, probs = forward(x, model_dict)\n",
    "        delta3 = np.copy(probs)\n",
    "        delta3[range(x.shape[0]),y] -=1\n",
    "        dW2 = (a1.T).dot(delta3)\n",
    "        db2 = np.sum(delta3, axis = 0, keepdims = True)\n",
    "        delta2 = delta3.dot(W2.T) * (1-np.power(np.tanh(z1),2))\n",
    "        dW1 = np.dot(x.T, delta2)\n",
    "        db1 = np.sum(delta2, axis = 0)\n",
    "        dW2 += lambda_reg * np.sum(W2)\n",
    "        dW1 += lambda_reg * np.sum(W1)\n",
    "\n",
    "        W1 += -learning_rate * dW1\n",
    "        b1 += -learning_rate * db1\n",
    "        W2 += -learning_rate * dW2\n",
    "        b2 += -learning_rate * db2\n",
    "\n",
    "        model_dict = {'W1':W1, 'b1':b1, 'W2':W2, 'b2':b2}\n",
    "        if i%50 == 0:\n",
    "            print(\"Loss at epoch {} is: {:.3f}\".format(i, loss(probs, y, model_dict)))\n",
    "    return model_dict"
   ]
  },
  {
   "cell_type": "code",
   "execution_count": 13,
   "id": "238e4c65-6230-49bb-a4d5-34f520b39c26",
   "metadata": {},
   "outputs": [],
   "source": [
    "def init_network(input_dim, hidden_dim, output_dim):\n",
    "    model = {}\n",
    "    W1 = np.random.randn(input_dim, hidden_dim) / np.sqrt(input_dim)\n",
    "    b1 = np.zeros((1, hidden_dim))\n",
    "    W2 = np.random.randn(hidden_dim, output_dim) / np.sqrt(hidden_dim)\n",
    "    b2 = np.zeros((1, output_dim))\n",
    "\n",
    "    model['W1'] = W1\n",
    "    model['b1'] = b1\n",
    "    model['W2'] = W2\n",
    "    model['b2'] = b2\n",
    "\n",
    "    return model"
   ]
  },
  {
   "cell_type": "code",
   "execution_count": 14,
   "id": "b5840224-128e-419f-8a9b-890eebcbf632",
   "metadata": {},
   "outputs": [
    {
     "name": "stdout",
     "output_type": "stream",
     "text": [
      "Loss at epoch 0 is: 0.885\n",
      "Loss at epoch 50 is: 0.320\n",
      "Loss at epoch 100 is: 0.297\n",
      "Loss at epoch 150 is: 0.291\n",
      "Loss at epoch 200 is: 0.288\n",
      "Loss at epoch 250 is: 0.286\n",
      "Loss at epoch 300 is: 0.284\n",
      "Loss at epoch 350 is: 0.282\n",
      "Loss at epoch 400 is: 0.280\n",
      "Loss at epoch 450 is: 0.278\n",
      "Loss at epoch 500 is: 0.276\n",
      "Loss at epoch 550 is: 0.274\n",
      "Loss at epoch 600 is: 0.273\n",
      "Loss at epoch 650 is: 0.271\n",
      "Loss at epoch 700 is: 0.269\n",
      "Loss at epoch 750 is: 0.268\n",
      "Loss at epoch 800 is: 0.266\n",
      "Loss at epoch 850 is: 0.265\n",
      "Loss at epoch 900 is: 0.264\n",
      "Loss at epoch 950 is: 0.263\n",
      "Loss at epoch 1000 is: 0.262\n",
      "Loss at epoch 1050 is: 0.261\n",
      "Loss at epoch 1100 is: 0.260\n",
      "Loss at epoch 1150 is: 0.259\n",
      "Loss at epoch 1200 is: 0.258\n",
      "Loss at epoch 1250 is: 0.256\n",
      "Loss at epoch 1300 is: 0.254\n",
      "Loss at epoch 1350 is: 0.248\n",
      "Loss at epoch 1400 is: 0.236\n",
      "Loss at epoch 1450 is: 0.219\n"
     ]
    }
   ],
   "source": [
    "model_dict = init_network(input_neurons, 3, output_neurons)\n",
    "model = backpropagation(X, y, model_dict, 1500)"
   ]
  }
 ],
 "metadata": {
  "kernelspec": {
   "display_name": "main_venv",
   "language": "python",
   "name": "main_venv"
  },
  "language_info": {
   "codemirror_mode": {
    "name": "ipython",
    "version": 3
   },
   "file_extension": ".py",
   "mimetype": "text/x-python",
   "name": "python",
   "nbconvert_exporter": "python",
   "pygments_lexer": "ipython3",
   "version": "3.12.3"
  }
 },
 "nbformat": 4,
 "nbformat_minor": 5
}
