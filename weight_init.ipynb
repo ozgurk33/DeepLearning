{
 "cells": [
  {
   "cell_type": "code",
   "execution_count": 1,
   "id": "d82db50d-64e4-46cc-9b4d-c4e8ad86d1e0",
   "metadata": {},
   "outputs": [],
   "source": [
    "import torch\n",
    "import torch.nn as nn"
   ]
  },
  {
   "cell_type": "code",
   "execution_count": 3,
   "id": "82863064-241c-487b-a260-853a1eaef1ef",
   "metadata": {},
   "outputs": [],
   "source": [
    "layer = nn.Linear(5, 5)"
   ]
  },
  {
   "cell_type": "code",
   "execution_count": 4,
   "id": "36e0ead5-6bdb-423f-8011-8bb446d534aa",
   "metadata": {},
   "outputs": [
    {
     "data": {
      "text/plain": [
       "Parameter containing:\n",
       "tensor([[-0.1954,  0.2297, -0.1800,  0.2334, -0.1417],\n",
       "        [-0.1007,  0.1924, -0.3179,  0.1775,  0.0513],\n",
       "        [ 0.0725,  0.1330, -0.4271, -0.3325,  0.0179],\n",
       "        [ 0.2060,  0.0503, -0.0085, -0.2287,  0.2228],\n",
       "        [ 0.0598, -0.3834, -0.3930,  0.1329, -0.4111]], requires_grad=True)"
      ]
     },
     "execution_count": 4,
     "metadata": {},
     "output_type": "execute_result"
    }
   ],
   "source": [
    "layer.weight"
   ]
  },
  {
   "cell_type": "code",
   "execution_count": 5,
   "id": "2a221dd1-688f-4103-b5e1-8a5e0dbe0ef3",
   "metadata": {},
   "outputs": [
    {
     "data": {
      "text/plain": [
       "tensor([[-0.1954,  0.2297, -0.1800,  0.2334, -0.1417],\n",
       "        [-0.1007,  0.1924, -0.3179,  0.1775,  0.0513],\n",
       "        [ 0.0725,  0.1330, -0.4271, -0.3325,  0.0179],\n",
       "        [ 0.2060,  0.0503, -0.0085, -0.2287,  0.2228],\n",
       "        [ 0.0598, -0.3834, -0.3930,  0.1329, -0.4111]])"
      ]
     },
     "execution_count": 5,
     "metadata": {},
     "output_type": "execute_result"
    }
   ],
   "source": [
    "layer.weight.data"
   ]
  },
  {
   "cell_type": "code",
   "execution_count": 7,
   "id": "efa170be-982e-45a1-bfa7-f222c2644476",
   "metadata": {},
   "outputs": [
    {
     "data": {
      "text/plain": [
       "tensor([[1.9780e+00, 1.2720e+00, 1.0162e+00, 1.0510e+00, 1.6901e+00],\n",
       "        [2.6599e+00, 1.6096e+00, 2.6000e-01, 2.0379e+00, 2.1774e+00],\n",
       "        [3.1829e-05, 1.3184e+00, 1.9003e+00, 2.1069e+00, 1.8923e-01],\n",
       "        [1.0218e-02, 1.6366e+00, 2.7292e+00, 6.1437e-01, 1.9593e+00],\n",
       "        [2.6036e+00, 3.0797e-01, 4.6939e-01, 3.2350e-01, 1.7985e-01]])"
      ]
     },
     "execution_count": 7,
     "metadata": {},
     "output_type": "execute_result"
    }
   ],
   "source": [
    "nn.init.uniform_(layer.weight.data, a=0.0, b=3)"
   ]
  },
  {
   "cell_type": "code",
   "execution_count": 8,
   "id": "dfc61103-6fa7-4aa7-9c36-fbf5f142abc2",
   "metadata": {},
   "outputs": [
    {
     "data": {
      "text/plain": [
       "Parameter containing:\n",
       "tensor([[-1.5851,  0.7835, -1.9894,  1.5863,  0.6232],\n",
       "        [ 1.1750, -0.1563, -1.3838,  0.2784, -0.4620],\n",
       "        [-1.6764, -0.8696,  0.3631, -0.6469,  0.7046],\n",
       "        [ 1.1078,  0.7414,  0.0562, -0.0087,  0.8731],\n",
       "        [-0.3435, -0.7580, -0.4176,  0.4362, -1.9865]], requires_grad=True)"
      ]
     },
     "execution_count": 8,
     "metadata": {},
     "output_type": "execute_result"
    }
   ],
   "source": [
    "nn.init.normal_(layer.weight, mean = 0.0, std = 1.0)"
   ]
  },
  {
   "cell_type": "code",
   "execution_count": 9,
   "id": "a2eb417a-61dd-4298-83fd-3efe067675dd",
   "metadata": {},
   "outputs": [
    {
     "data": {
      "text/plain": [
       "Parameter containing:\n",
       "tensor([[-0.3406,  0.0132,  0.0832,  0.0689,  0.0905],\n",
       "        [-0.0740,  0.0010,  0.1659, -0.2066,  0.4885],\n",
       "        [-0.1071,  0.1355,  0.0358, -0.1133, -0.1079],\n",
       "        [ 0.4756,  0.2571,  0.2053,  0.1717, -0.0415],\n",
       "        [-0.1579,  0.4278, -0.1446, -0.2771,  0.4243]], requires_grad=True)"
      ]
     },
     "execution_count": 9,
     "metadata": {},
     "output_type": "execute_result"
    }
   ],
   "source": [
    "nn.init.normal_(layer.weight, mean = 0.0, std = 0.2)"
   ]
  },
  {
   "cell_type": "code",
   "execution_count": 10,
   "id": "48a2a123-36c0-4b0c-a9ce-54d4e953bf8c",
   "metadata": {},
   "outputs": [
    {
     "data": {
      "text/plain": [
       "Parameter containing:\n",
       "tensor([[8., 8., 8., 8., 8.],\n",
       "        [8., 8., 8., 8., 8.],\n",
       "        [8., 8., 8., 8., 8.],\n",
       "        [8., 8., 8., 8., 8.],\n",
       "        [8., 8., 8., 8., 8.]], requires_grad=True)"
      ]
     },
     "execution_count": 10,
     "metadata": {},
     "output_type": "execute_result"
    }
   ],
   "source": [
    "nn.init.constant_(layer.weight, 8)"
   ]
  },
  {
   "cell_type": "code",
   "execution_count": 11,
   "id": "60ec5eac-7c23-4134-a15d-8bae440aa8fe",
   "metadata": {},
   "outputs": [
    {
     "data": {
      "text/plain": [
       "Parameter containing:\n",
       "tensor([0., 0., 0., 0., 0.], requires_grad=True)"
      ]
     },
     "execution_count": 11,
     "metadata": {},
     "output_type": "execute_result"
    }
   ],
   "source": [
    "nn.init.zeros_(layer.bias)"
   ]
  },
  {
   "cell_type": "code",
   "execution_count": 12,
   "id": "69a47ca7-c5f9-466e-adc9-da4f7467d330",
   "metadata": {},
   "outputs": [
    {
     "data": {
      "text/plain": [
       "Parameter containing:\n",
       "tensor([0., 0., 0., 0., 0.], requires_grad=True)"
      ]
     },
     "execution_count": 12,
     "metadata": {},
     "output_type": "execute_result"
    }
   ],
   "source": [
    "layer.bias"
   ]
  },
  {
   "cell_type": "code",
   "execution_count": 13,
   "id": "723db7b7-6b74-482e-8eb0-53170fec0114",
   "metadata": {},
   "outputs": [
    {
     "data": {
      "text/plain": [
       "Parameter containing:\n",
       "tensor([[8., 8., 8., 8., 8.],\n",
       "        [8., 8., 8., 8., 8.],\n",
       "        [8., 8., 8., 8., 8.],\n",
       "        [8., 8., 8., 8., 8.],\n",
       "        [8., 8., 8., 8., 8.]], requires_grad=True)"
      ]
     },
     "execution_count": 13,
     "metadata": {},
     "output_type": "execute_result"
    }
   ],
   "source": [
    "layer.weight"
   ]
  },
  {
   "cell_type": "code",
   "execution_count": 14,
   "id": "fbb7f41d-5379-4fab-9635-64195698a324",
   "metadata": {},
   "outputs": [
    {
     "data": {
      "text/plain": [
       "Parameter containing:\n",
       "tensor([[ 0.7384,  0.3204,  0.2034,  0.0207, -0.0144],\n",
       "        [-0.5729,  0.1227, -0.3260,  0.1301, -0.1572],\n",
       "        [ 0.3872, -0.6613,  0.0191, -0.5542,  0.3982],\n",
       "        [ 0.4367,  0.6022, -0.1434, -0.2487,  0.1292],\n",
       "        [-0.3093, -0.4203,  0.4205, -0.1372, -0.7634]], requires_grad=True)"
      ]
     },
     "execution_count": 14,
     "metadata": {},
     "output_type": "execute_result"
    }
   ],
   "source": [
    "nn.init.xavier_uniform_(layer.weight, gain = 1.0)"
   ]
  },
  {
   "cell_type": "code",
   "execution_count": 15,
   "id": "9fb89d0d-c7dd-4976-8188-2168ea5982fe",
   "metadata": {},
   "outputs": [
    {
     "data": {
      "text/plain": [
       "Parameter containing:\n",
       "tensor([[-0.7105,  0.1331,  0.7041, -0.5193,  0.0953],\n",
       "        [-0.6904,  0.0398, -0.2588, -0.1978, -0.0096],\n",
       "        [ 0.0745,  0.2349,  0.4172,  0.9199, -0.0855],\n",
       "        [-0.8838,  0.4733, -0.3921, -0.2067, -0.0564],\n",
       "        [-0.4322,  0.2472,  0.4912, -0.4718,  0.3943]], requires_grad=True)"
      ]
     },
     "execution_count": 15,
     "metadata": {},
     "output_type": "execute_result"
    }
   ],
   "source": [
    "nn.init.xavier_normal_(layer.weight, gain = 1.0)"
   ]
  },
  {
   "cell_type": "code",
   "execution_count": null,
   "id": "445c0f99-55e7-4f7e-99ac-7fb23dfc7e69",
   "metadata": {},
   "outputs": [],
   "source": []
  }
 ],
 "metadata": {
  "kernelspec": {
   "display_name": "Python (myenv)",
   "language": "python",
   "name": "myenv"
  },
  "language_info": {
   "codemirror_mode": {
    "name": "ipython",
    "version": 3
   },
   "file_extension": ".py",
   "mimetype": "text/x-python",
   "name": "python",
   "nbconvert_exporter": "python",
   "pygments_lexer": "ipython3",
   "version": "3.12.3"
  }
 },
 "nbformat": 4,
 "nbformat_minor": 5
}
